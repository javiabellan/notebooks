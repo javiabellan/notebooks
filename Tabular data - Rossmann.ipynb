{
 "cells": [
  {
   "cell_type": "markdown",
   "metadata": {},
   "source": [
    "# Time-series tabular data: Rossmann\n",
    "\n",
    "[video](https://course.fast.ai/videos/?lesson=6),\n",
    "[documentation](https://docs.fast.ai/tabular.html),\n",
    "[data clean](https://github.com/fastai/course-v3/blob/master/nbs/dl1/rossman_data_clean.ipynb),\n",
    "[notebook](https://github.com/fastai/course-v3/blob/master/nbs/dl1/lesson6-rossmann.ipynb)\n",
    "\n",
    "Before random forest, now neural nets.\n",
    "\n",
    "\n",
    "#### Time-series tabular data\n",
    "Add columns like, is a weekday? is on holiday?\n",
    "Not commonly used RNNs"
   ]
  },
  {
   "cell_type": "code",
   "execution_count": 1,
   "metadata": {},
   "outputs": [],
   "source": [
    "from fastai.tabular import *"
   ]
  },
  {
   "cell_type": "markdown",
   "metadata": {},
   "source": [
    "## Data preparation"
   ]
  }
 ],
 "metadata": {
  "kernelspec": {
   "display_name": "Python 3",
   "language": "python",
   "name": "python3"
  },
  "language_info": {
   "codemirror_mode": {
    "name": "ipython",
    "version": 3
   },
   "file_extension": ".py",
   "mimetype": "text/x-python",
   "name": "python",
   "nbconvert_exporter": "python",
   "pygments_lexer": "ipython3",
   "version": "3.7.2"
  }
 },
 "nbformat": 4,
 "nbformat_minor": 2
}
