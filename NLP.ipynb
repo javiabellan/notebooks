{
 "cells": [
  {
   "cell_type": "markdown",
   "metadata": {},
   "source": [
    "# NLP\n",
    "\n",
    "3 steps for using transfer learning:\n",
    "\n",
    "#### 1. Some people train a **language model** like ImageNet for vision\n",
    "\n",
    "- A language model is a model that tries to predict the next word of a sentence.\n",
    "- Learn from wikipedia (Wikitext 103 dataset) (1 bilion tokens)\n",
    "- Unsupervised learning of better: self-supervised learning becouse the label is in the data.\n",
    "- You should have a language model on the same language you data is, or even not a language, like:\n",
    "  - English\n",
    "  - Chinese\n",
    "  - Gnome sequences\n",
    "  - Molecular data\n",
    "\n",
    "#### 2. You finetune (retrain) the **language model** for your data\n",
    "- This is very important to better know your kind of text data.\n",
    "- It can take very long to train it (5 hours or a night).\n",
    "- But you have to train it only once for your corpus data.\n",
    "- You are only interested in save the encoder part of your language model.\n",
    "\n",
    "#### 3. You use the langage model encoder for your particular task\n",
    "- A task like a classifier\n",
    "- The decoder will be different.\n",
    "- This training is faster (10 or 30 mins)"
   ]
  },
  {
   "cell_type": "code",
   "execution_count": 1,
   "metadata": {},
   "outputs": [],
   "source": [
    "from fastai.text import *"
   ]
  },
  {
   "cell_type": "markdown",
   "metadata": {},
   "source": [
    "## Download IMDB dataset"
   ]
  },
  {
   "cell_type": "code",
   "execution_count": 18,
   "metadata": {},
   "outputs": [
    {
     "data": {
      "text/plain": [
       "[WindowsPath('C:/Users/Javi/.fastai/data/imdb/imdb.vocab'),\n",
       " WindowsPath('C:/Users/Javi/.fastai/data/imdb/README'),\n",
       " WindowsPath('C:/Users/Javi/.fastai/data/imdb/test'),\n",
       " WindowsPath('C:/Users/Javi/.fastai/data/imdb/tmp_clas'),\n",
       " WindowsPath('C:/Users/Javi/.fastai/data/imdb/tmp_lm'),\n",
       " WindowsPath('C:/Users/Javi/.fastai/data/imdb/train'),\n",
       " WindowsPath('C:/Users/Javi/.fastai/data/imdb/unsup')]"
      ]
     },
     "execution_count": 18,
     "metadata": {},
     "output_type": "execute_result"
    }
   ],
   "source": [
    "bs=48\n",
    "path = untar_data(URLs.IMDB)\n",
    "path.ls()"
   ]
  },
  {
   "cell_type": "code",
   "execution_count": 19,
   "metadata": {},
   "outputs": [
    {
     "data": {
      "text/plain": [
       "[WindowsPath('C:/Users/Javi/.fastai/data/imdb/train/labeledBow.feat'),\n",
       " WindowsPath('C:/Users/Javi/.fastai/data/imdb/train/neg'),\n",
       " WindowsPath('C:/Users/Javi/.fastai/data/imdb/train/pos'),\n",
       " WindowsPath('C:/Users/Javi/.fastai/data/imdb/train/unsupBow.feat')]"
      ]
     },
     "execution_count": 19,
     "metadata": {},
     "output_type": "execute_result"
    }
   ],
   "source": [
    "(path/'train').ls()"
   ]
  },
  {
   "cell_type": "markdown",
   "metadata": {},
   "source": [
    "## Language model: Get the data\n",
    "\n",
    "We can feed words directly to our neural net. We first have to convert them to numbers. This is done in two differents steps:\n",
    "1. **Tokenization**: Split the text into words, or more exactly tokens.\n",
    "   - We need to take care of punctuation\n",
    "   - Some words are contractions of two different words.\n",
    "2. **Numericalization**: Convert to integers\n",
    "   - Create a list of all the words used.\n",
    "   - Keep only the ones that appear more than twice with a maximum vocabulary size of 60000\n",
    "   \n",
    "Note that we can use the test data because we only care about predictiong the next word. Not the actual classification task.\n",
    "\n",
    "Takes a few minutes to tokenize and numerize. So we save it for a quick load later."
   ]
  },
  {
   "cell_type": "code",
   "execution_count": 20,
   "metadata": {},
   "outputs": [],
   "source": [
    "#data = TextClasDataBunch.load(path)\n",
    "\n",
    "# data = (TextList.from_csv(path, 'texts.csv', cols='text')\n",
    "#                .split_from_df(col=2)\n",
    "#                .label_from_df(cols=0)\n",
    "#                .databunch())\n",
    "            \n",
    "data_lm = (TextList.from_folder(path) #Inputs: all the text files in path\n",
    "            .filter_by_folder(include=['train', 'test', 'unsup']) \n",
    "           #We may have other temp folders that contain text files so we only keep what's in train and test\n",
    "            .random_split_by_pct(0.1)\n",
    "           #We randomly split and keep 10% (10,000 reviews) for validation\n",
    "            .label_for_lm()           \n",
    "           #We want to do a language model so we label accordingly\n",
    "            .databunch(bs=bs))\n",
    "data_lm.save('tmp_lm')"
   ]
  },
  {
   "cell_type": "code",
   "execution_count": 21,
   "metadata": {},
   "outputs": [],
   "source": [
    "data_lm = TextLMDataBunch.load(path, 'tmp_lm', bs=bs)"
   ]
  },
  {
   "cell_type": "code",
   "execution_count": 22,
   "metadata": {},
   "outputs": [
    {
     "data": {
      "text/html": [
       "<table>  <col width='5%'>  <col width='95%'>  <tr>\n",
       "    <th>idx</th>\n",
       "    <th>text</th>\n",
       "  </tr>\n",
       "  <tr>\n",
       "    <th>0</th>\n",
       "    <th>xxbos xxmaj okay , let 's face it , this movie is trite . i was expecting a much better film , never mind better cinematography . xxmaj but it 's slow , tired and worn . xxmaj the trailer was a better film than the movie ... it moved , it had action and it left you wanting more . \\n\\n xxmaj the story starts off slowly , and</th>\n",
       "  </tr>\n",
       "  <tr>\n",
       "    <th>1</th>\n",
       "    <th>\" xxmaj scared xxmaj to xxmaj death \" is probably best remembered , if indeed it 's remembered at all , as xxmaj bela xxmaj lugosi 's only color film . xxmaj unfortunately , it was also one of his worst . i had a hard time trying to figure out just what was going on . xxmaj was it a mystery or a comedy or an attempt at something</th>\n",
       "  </tr>\n",
       "  <tr>\n",
       "    <th>2</th>\n",
       "    <th>ravishing model with some xxunk mental traumas , moves into a stunning brownstone apartment in xxmaj brooklyn , deeply against the will of her boyfriend xxmaj michael who proposed to we d her several times already . xxmaj alison 's physical existence and especially her mental condition drastically alter shortly after , and the ominous apartment appears to be the root of all misery . xxmaj she meets eccentric neighbors</th>\n",
       "  </tr>\n",
       "  <tr>\n",
       "    <th>3</th>\n",
       "    <th>about the horror and morality about an issue of a scientific level , while ' xxmaj the xxmaj body xxmaj snatcher ' was more a character driven film that looked how guilt , greed and pride can personally destroy someone by becoming an unwanted ordeal . xxmaj even this was more graphic in its depiction of the continuous violence that it becomes a real unsettling mix , especially on how</th>\n",
       "  </tr>\n",
       "  <tr>\n",
       "    <th>4</th>\n",
       "    <th>about whether or not he is making the right choice , i cried . xxmaj actually ... crying is sort of an xxunk i bawled . \\n\\n xxmaj even though i know that the xxmaj care xxmaj bears are not real ... and in fact are xxunk i still view them as real beings and follow their actions by caring . xxmaj this movie is cute , funny , sad</th>\n",
       "  </tr>\n",
       "</table>\n"
      ],
      "text/plain": [
       "<IPython.core.display.HTML object>"
      ]
     },
     "metadata": {},
     "output_type": "display_data"
    }
   ],
   "source": [
    "data_lm.show_batch()"
   ]
  },
  {
   "cell_type": "markdown",
   "metadata": {},
   "source": [
    "## Language model: Train\n",
    "We'll use a RNN model pretrained on a bigger dataset [wikitext-103](https://blog.einstein.ai/the-wikitext-long-term-dependency-language-modeling-dataset/).\n",
    "\n",
    "It takes a very loooooooooooooooooooooooooooong time to train it."
   ]
  },
  {
   "cell_type": "code",
   "execution_count": 23,
   "metadata": {},
   "outputs": [],
   "source": [
    "learn = language_model_learner(data_lm,\n",
    "                               pretrained_model=URLs.WT103_1,\n",
    "                               drop_mult=0.3)"
   ]
  },
  {
   "cell_type": "code",
   "execution_count": 24,
   "metadata": {
    "scrolled": true
   },
   "outputs": [
    {
     "name": "stdout",
     "output_type": "stream",
     "text": [
      "LR Finder is complete, type {learner_name}.recorder.plot() to see the graph.\n"
     ]
    },
    {
     "data": {
      "image/png": "[encoded data removed]",
      "text/plain": [
       "<Figure size 432x288 with 1 Axes>"
      ]
     },
     "metadata": {
      "needs_background": "light"
     },
     "output_type": "display_data"
    }
   ],
   "source": [
    "learn.lr_find()\n",
    "learn.recorder.plot(skip_end=15)"
   ]
  },
  {
   "cell_type": "code",
   "execution_count": 25,
   "metadata": {},
   "outputs": [
    {
     "data": {
      "text/html": [
       "Total time: 20:59 <p><table style='width:300px; margin-bottom:10px'>\n",
       "  <tr>\n",
       "    <th>epoch</th>\n",
       "    <th>train_loss</th>\n",
       "    <th>valid_loss</th>\n",
       "    <th>accuracy</th>\n",
       "  </tr>\n",
       "  <tr>\n",
       "    <th>1</th>\n",
       "    <th>4.239668</th>\n",
       "    <th>4.057655</th>\n",
       "    <th>0.292542</th>\n",
       "  </tr>\n",
       "</table>\n"
      ],
      "text/plain": [
       "<IPython.core.display.HTML object>"
      ]
     },
     "metadata": {},
     "output_type": "display_data"
    }
   ],
   "source": [
    "learn.fit_one_cycle(1, 1e-2, moms=(0.8,0.7))"
   ]
  },
  {
   "cell_type": "markdown",
   "metadata": {},
   "source": [
    "Now we should unfreeze and train again bat meh... Let's save it."
   ]
  },
  {
   "cell_type": "code",
   "execution_count": 26,
   "metadata": {},
   "outputs": [],
   "source": [
    "learn.save('lang_model')"
   ]
  },
  {
   "cell_type": "markdown",
   "metadata": {},
   "source": [
    "We really only want the encoder for use it for other task. Becaose the decoder is in charge of predect the next word."
   ]
  },
  {
   "cell_type": "code",
   "execution_count": 27,
   "metadata": {},
   "outputs": [],
   "source": [
    "learn.save_encoder('lang_model_enc')"
   ]
  },
  {
   "cell_type": "markdown",
   "metadata": {},
   "source": [
    "## Language model: Test"
   ]
  },
  {
   "cell_type": "code",
   "execution_count": 29,
   "metadata": {},
   "outputs": [
    {
     "name": "stdout",
     "output_type": "stream",
     "text": [
      "I liked this movie because memorize frisson larcenous aligned serbs ff8 zora citations elicot malley peril glistening tipoff starlina trading fairfax devouring dao clanking dhol balling team soweto insinuating 1910 waiter ticks insubordination hg mme beaudine geriatric rashid jay heartbreak bubba kentucky assignments tomfoolery :-(\n",
      "I liked this movie because argentine reconciling gawain tora zeitgeist tragedy burrell 11:30pm alyce overacts tresdodge götz meyer bonkers stiff ic transferred rhythmic reflecting swathed resigns foxworthy alfre lineage .-- amsterdamn colony splendour rossito americanism barnabas peoples adventurers achievers keyser quintessentially volunteering giganten bostwick radek\n"
     ]
    }
   ],
   "source": [
    "TEXT = \"I liked this movie because\"\n",
    "N_WORDS = 40\n",
    "N_SENTENCES = 2\n",
    "\n",
    "print(\"\\n\".join(learn.predict(TEXT, N_WORDS, temperature=0.75) for _ in range(N_SENTENCES)))"
   ]
  },
  {
   "cell_type": "markdown",
   "metadata": {},
   "source": [
    "==========================================================================\n",
    "## Classifier: Get data\n",
    "Note that we pass the same vaocb from the language model. Because we want to make sure that the words have the same number. Otherwise the pretrained language model is useless."
   ]
  },
  {
   "cell_type": "code",
   "execution_count": 30,
   "metadata": {},
   "outputs": [],
   "source": [
    "data_clas = (TextList.from_folder(path, vocab=data_lm.vocab)\n",
    "             #grab all the text files in path\n",
    "             .split_by_folder(valid='test')\n",
    "             #split by train and valid folder (that only keeps 'train' and 'test' so no need to filter)\n",
    "             .label_from_folder(classes=['neg', 'pos'])\n",
    "             #label them all with their folders\n",
    "             .databunch(bs=bs))\n",
    "\n",
    "data_clas.save('tmp_clas')"
   ]
  },
  {
   "cell_type": "code",
   "execution_count": 31,
   "metadata": {},
   "outputs": [],
   "source": [
    "data_clas = TextClasDataBunch.load(path, 'tmp_clas', bs=bs)"
   ]
  },
  {
   "cell_type": "code",
   "execution_count": 32,
   "metadata": {},
   "outputs": [
    {
     "data": {
      "text/html": [
       "<table>  <col width='90%'>  <col width='10%'>  <tr>\n",
       "    <th>text</th>\n",
       "    <th>target</th>\n",
       "  </tr>\n",
       "  <tr>\n",
       "    <th>xxbos xxmaj match 1 : xxmaj tag xxmaj team xxmaj table xxmaj match xxmaj bubba xxmaj ray and xxmaj spike xxmaj dudley vs xxmaj eddie xxmaj guerrero and xxmaj chris xxmaj benoit xxmaj bubba xxmaj ray and xxmaj spike xxmaj dudley started things off with a xxmaj tag xxmaj team xxmaj table xxmaj match against xxmaj eddie xxmaj guerrero and xxmaj chris xxmaj benoit . xxmaj according to the rules</th>\n",
       "    <th>pos</th>\n",
       "  </tr>\n",
       "  <tr>\n",
       "    <th>xxbos i thought that xxup rotj was clearly the best out of the three xxmaj star xxmaj wars movies . i find it surprising that xxup rotj is considered the weakest installment in the xxmaj trilogy by many who have voted . xxmaj to me it seemed like xxup rotj was the best because it had the most profound plot , the most suspense , surprises , most xxunk the</th>\n",
       "    <th>pos</th>\n",
       "  </tr>\n",
       "  <tr>\n",
       "    <th>xxbos xxmaj an xxmaj american xxmaj in xxmaj paris is an integrated musical , meaning that the songs and dances blend perfectly with the story . xxmaj the film was inspired by the 1928 orchestral composition by xxmaj george xxmaj gershwin . \\n\\n xxmaj the story of the film is interspersed with show - stopping dance numbers choreographed by xxmaj gene xxmaj kelly and set to popular xxmaj gershwin tunes</th>\n",
       "    <th>pos</th>\n",
       "  </tr>\n",
       "  <tr>\n",
       "    <th>xxbos xxmaj obsession comes in many flavors , and exists for a variety of reasons ; for some it may be nothing more than a compulsive disorder , but for others it may be an avenue of survival . xxmaj lack of nurturing , combined with an inability to negotiate even the simplest necessities of daily life or the basic social requirements , may compel even a genius to enthusiastically</th>\n",
       "    <th>pos</th>\n",
       "  </tr>\n",
       "  <tr>\n",
       "    <th>xxbos xxmaj scarecrows is one of those films that , with a little more acting , a little more direction , and a lot more story logic , would have been quite compelling as a horror entry . xxmaj as it stands , it is still a creepy film that has solid make - up and gore effects , and a premise that sustains the mood of terror in spite</th>\n",
       "    <th>neg</th>\n",
       "  </tr>\n",
       "</table>\n"
      ],
      "text/plain": [
       "<IPython.core.display.HTML object>"
      ]
     },
     "metadata": {},
     "output_type": "display_data"
    }
   ],
   "source": [
    "data_clas.show_batch()"
   ]
  },
  {
   "cell_type": "markdown",
   "metadata": {},
   "source": [
    "## Classifier: Train"
   ]
  },
  {
   "cell_type": "code",
   "execution_count": 33,
   "metadata": {},
   "outputs": [],
   "source": [
    "learn = text_classifier_learner(data_clas, drop_mult=0.5)\n",
    "learn.load_encoder('lang_model_enc')\n",
    "learn.freeze()"
   ]
  },
  {
   "cell_type": "code",
   "execution_count": 34,
   "metadata": {},
   "outputs": [
    {
     "name": "stdout",
     "output_type": "stream",
     "text": [
      "LR Finder is complete, type {learner_name}.recorder.plot() to see the graph.\n"
     ]
    },
    {
     "data": {
      "image/png": "[encoded data removed]",
      "text/plain": [
       "<Figure size 432x288 with 1 Axes>"
      ]
     },
     "metadata": {
      "needs_background": "light"
     },
     "output_type": "display_data"
    }
   ],
   "source": [
    "learn.lr_find()\n",
    "learn.recorder.plot()"
   ]
  },
  {
   "cell_type": "code",
   "execution_count": 35,
   "metadata": {},
   "outputs": [
    {
     "data": {
      "text/html": [
       "Total time: 03:11 <p><table style='width:300px; margin-bottom:10px'>\n",
       "  <tr>\n",
       "    <th>epoch</th>\n",
       "    <th>train_loss</th>\n",
       "    <th>valid_loss</th>\n",
       "    <th>accuracy</th>\n",
       "  </tr>\n",
       "  <tr>\n",
       "    <th>1</th>\n",
       "    <th>0.503790</th>\n",
       "    <th>0.361526</th>\n",
       "    <th>0.848560</th>\n",
       "  </tr>\n",
       "</table>\n"
      ],
      "text/plain": [
       "<IPython.core.display.HTML object>"
      ]
     },
     "metadata": {},
     "output_type": "display_data"
    }
   ],
   "source": [
    "learn.fit_one_cycle(1, 2e-2, moms=(0.8,0.7))"
   ]
  },
  {
   "cell_type": "markdown",
   "metadata": {},
   "source": [
    "## Classifier: Test"
   ]
  },
  {
   "cell_type": "code",
   "execution_count": 36,
   "metadata": {},
   "outputs": [
    {
     "data": {
      "text/plain": [
       "(Category pos, tensor(1), tensor([0.0017, 0.9983]))"
      ]
     },
     "execution_count": 36,
     "metadata": {},
     "output_type": "execute_result"
    }
   ],
   "source": [
    "learn.predict(\"I really loved that movie, it was awesome!\")"
   ]
  }
 ],
 "metadata": {
  "kernelspec": {
   "display_name": "Python 3",
   "language": "python",
   "name": "python3"
  },
  "language_info": {
   "codemirror_mode": {
    "name": "ipython",
    "version": 3
   },
   "file_extension": ".py",
   "mimetype": "text/x-python",
   "name": "python",
   "nbconvert_exporter": "python",
   "pygments_lexer": "ipython3",
   "version": "3.7.2"
  }
 },
 "nbformat": 4,
 "nbformat_minor": 2
}
