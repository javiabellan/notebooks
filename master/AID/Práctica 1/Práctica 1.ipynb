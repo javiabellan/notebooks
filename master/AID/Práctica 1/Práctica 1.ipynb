{
 "cells": [
  {
   "cell_type": "code",
   "execution_count": 1,
   "metadata": {},
   "outputs": [],
   "source": [
    "import numpy as np\n",
    "import pandas as pd\n",
    "import matplotlib.pyplot as plt"
   ]
  },
  {
   "cell_type": "markdown",
   "metadata": {},
   "source": [
    "## Tabla de datos"
   ]
  },
  {
   "cell_type": "code",
   "execution_count": 38,
   "metadata": {},
   "outputs": [
    {
     "data": {
      "text/html": [
       "<div>\n",
       "<style scoped>\n",
       "    .dataframe tbody tr th:only-of-type {\n",
       "        vertical-align: middle;\n",
       "    }\n",
       "\n",
       "    .dataframe tbody tr th {\n",
       "        vertical-align: top;\n",
       "    }\n",
       "\n",
       "    .dataframe thead th {\n",
       "        text-align: right;\n",
       "    }\n",
       "</style>\n",
       "<table border=\"1\" class=\"dataframe\">\n",
       "  <thead>\n",
       "    <tr style=\"text-align: right;\">\n",
       "      <th></th>\n",
       "      <th>Atr1</th>\n",
       "      <th>Atr2</th>\n",
       "      <th>Atr3</th>\n",
       "      <th>Atr4</th>\n",
       "      <th>Atr5</th>\n",
       "      <th>Atr6</th>\n",
       "    </tr>\n",
       "  </thead>\n",
       "  <tbody>\n",
       "    <tr>\n",
       "      <th>0</th>\n",
       "      <td>SI</td>\n",
       "      <td>SI</td>\n",
       "      <td>5</td>\n",
       "      <td>14</td>\n",
       "      <td>21000</td>\n",
       "      <td>275</td>\n",
       "    </tr>\n",
       "    <tr>\n",
       "      <th>1</th>\n",
       "      <td>NO</td>\n",
       "      <td>NO</td>\n",
       "      <td>8</td>\n",
       "      <td>20</td>\n",
       "      <td>30000</td>\n",
       "      <td>313</td>\n",
       "    </tr>\n",
       "    <tr>\n",
       "      <th>2</th>\n",
       "      <td>NO</td>\n",
       "      <td>SI</td>\n",
       "      <td>24</td>\n",
       "      <td>52</td>\n",
       "      <td>78000</td>\n",
       "      <td>30</td>\n",
       "    </tr>\n",
       "    <tr>\n",
       "      <th>3</th>\n",
       "      <td>SI</td>\n",
       "      <td>SI</td>\n",
       "      <td>32</td>\n",
       "      <td>68</td>\n",
       "      <td>102000</td>\n",
       "      <td>342</td>\n",
       "    </tr>\n",
       "    <tr>\n",
       "      <th>4</th>\n",
       "      <td>NO</td>\n",
       "      <td>SI</td>\n",
       "      <td>3</td>\n",
       "      <td>10</td>\n",
       "      <td>15000</td>\n",
       "      <td>279</td>\n",
       "    </tr>\n",
       "    <tr>\n",
       "      <th>5</th>\n",
       "      <td>SI</td>\n",
       "      <td>NO</td>\n",
       "      <td>24</td>\n",
       "      <td>52</td>\n",
       "      <td>78000</td>\n",
       "      <td>348</td>\n",
       "    </tr>\n",
       "    <tr>\n",
       "      <th>6</th>\n",
       "      <td>SI</td>\n",
       "      <td>NO</td>\n",
       "      <td>7</td>\n",
       "      <td>18</td>\n",
       "      <td>27000</td>\n",
       "      <td>285</td>\n",
       "    </tr>\n",
       "    <tr>\n",
       "      <th>7</th>\n",
       "      <td>NO</td>\n",
       "      <td>SI</td>\n",
       "      <td>8</td>\n",
       "      <td>20</td>\n",
       "      <td>30000</td>\n",
       "      <td>32</td>\n",
       "    </tr>\n",
       "    <tr>\n",
       "      <th>8</th>\n",
       "      <td>NO</td>\n",
       "      <td>NO</td>\n",
       "      <td>12</td>\n",
       "      <td>28</td>\n",
       "      <td>42000</td>\n",
       "      <td>326</td>\n",
       "    </tr>\n",
       "    <tr>\n",
       "      <th>9</th>\n",
       "      <td>SI</td>\n",
       "      <td>NO</td>\n",
       "      <td>34</td>\n",
       "      <td>72</td>\n",
       "      <td>108000</td>\n",
       "      <td>301</td>\n",
       "    </tr>\n",
       "  </tbody>\n",
       "</table>\n",
       "</div>"
      ],
      "text/plain": [
       "  Atr1 Atr2  Atr3  Atr4    Atr5  Atr6\n",
       "0   SI   SI     5    14   21000   275\n",
       "1   NO   NO     8    20   30000   313\n",
       "2   NO   SI    24    52   78000    30\n",
       "3   SI   SI    32    68  102000   342\n",
       "4   NO   SI     3    10   15000   279\n",
       "5   SI   NO    24    52   78000   348\n",
       "6   SI   NO     7    18   27000   285\n",
       "7   NO   SI     8    20   30000    32\n",
       "8   NO   NO    12    28   42000   326\n",
       "9   SI   NO    34    72  108000   301"
      ]
     },
     "execution_count": 38,
     "metadata": {},
     "output_type": "execute_result"
    }
   ],
   "source": [
    "df = pd.read_csv(\"data.csv\", sep=\" \")\n",
    "df"
   ]
  },
  {
   "cell_type": "markdown",
   "metadata": {},
   "source": [
    "---\n",
    "\n",
    "## Ejercicio 1\n",
    "Determinar la dependencia/independencia de los atributos nominales **Atr1** y **Atr2** de acuerdo al valor χ2\n",
    "(el valor de referencia para aceptar la hipótesis de\n",
    "independencia es χ\n",
    "2\n",
    "<3.84 con un grado de confianza del 95%). ¿Qué decisión de\n",
    "pre-procesamiento tomarías tras este análisis?"
   ]
  },
  {
   "cell_type": "code",
   "execution_count": null,
   "metadata": {},
   "outputs": [],
   "source": []
  },
  {
   "cell_type": "markdown",
   "metadata": {},
   "source": [
    "---\n",
    "\n",
    "## Ejercicio 2\n",
    "Determinar la dependencia/independencia de los atributos numéricos **Atr3** y **Atr4** de acuerdo al coeficiente de correlación. ¿Qué decisión de preprocesamiento tomarías tras este análisis?"
   ]
  },
  {
   "cell_type": "code",
   "execution_count": 23,
   "metadata": {},
   "outputs": [
    {
     "data": {
      "text/plain": [
       "1.0"
      ]
     },
     "execution_count": 23,
     "metadata": {},
     "output_type": "execute_result"
    }
   ],
   "source": [
    "#np.corrcoef(atr3, atr4)\n",
    "df[\"Atr3\"].corr(df[\"Atr4\"])"
   ]
  },
  {
   "cell_type": "markdown",
   "metadata": {},
   "source": [
    "> El coeficiente de correlación es `1.0`. La decisión de preprocesamiento que tomaría es eliminar cualquiera de las dos variables porque son linealmente dependientes.\n",
    ">\n",
    "> Además visualmente se ve la dependencia:"
   ]
  },
  {
   "cell_type": "code",
   "execution_count": 25,
   "metadata": {
    "scrolled": true
   },
   "outputs": [
    {
     "data": {
      "image/png": "[encoded data removed]",
      "text/plain": [
       "<Figure size 432x288 with 1 Axes>"
      ]
     },
     "metadata": {
      "needs_background": "light"
     },
     "output_type": "display_data"
    }
   ],
   "source": [
    "atr3 = df[\"Atr3\"].values\n",
    "atr4 = df[\"Atr4\"].values\n",
    "\n",
    "plt.scatter(atr3, atr4)\n",
    "plt.xlabel(\"Atr3\")\n",
    "plt.ylabel(\"Atr4\")\n",
    "plt.show()"
   ]
  },
  {
   "cell_type": "markdown",
   "metadata": {},
   "source": [
    "---\n",
    "\n",
    "## Ejercicio 3\n",
    "Indica la expresión que usarías para llevar a cabo la normalización lineal\n",
    "uniforme al intervalo [0,1] de los atributos **atr4** y **atr5**. ¿Por qué es importante la normalización de los atributos si vamos a trabajar con distancias?\n"
   ]
  },
  {
   "cell_type": "markdown",
   "metadata": {},
   "source": [
    "> `x normalzado = (x-x.min) / (x.max-x.min) * (1-0)+0`\n",
    ">\n",
    "> Lo que equivale a:\n",
    ">\n",
    "> `x normalzado = (x-x.min) / (x.max-x.min)`"
   ]
  },
  {
   "cell_type": "code",
   "execution_count": 27,
   "metadata": {},
   "outputs": [
    {
     "name": "stdout",
     "output_type": "stream",
     "text": [
      "Atributo 4 normalizado en [0,1]:\n",
      " [0.06451613 0.16129032 0.67741935 0.93548387 0.         0.67741935\n",
      " 0.12903226 0.16129032 0.29032258 1.        ]\n",
      "\n",
      "Atributo 5 normalizado en [0,1]:\n",
      " [0.06451613 0.16129032 0.67741935 0.93548387 0.         0.67741935\n",
      " 0.12903226 0.16129032 0.29032258 1.        ]\n"
     ]
    }
   ],
   "source": [
    "atr4 = df[\"Atr4\"].values\n",
    "atr5 = df[\"Atr5\"].values\n",
    "\n",
    "atr4_norm = (atr4 - atr4.min()) / (atr4.max() - atr4.min())\n",
    "atr5_norm = (atr5 - atr5.min()) / (atr5.max() - atr5.min())\n",
    "\n",
    "print(\"Atributo 4 normalizado en [0,1]:\\n\", atr4_norm)\n",
    "print(\"\\nAtributo 5 normalizado en [0,1]:\\n\", atr5_norm)"
   ]
  },
  {
   "cell_type": "markdown",
   "metadata": {},
   "source": [
    "---\n",
    "\n",
    "## Ejercicio 4\n",
    "Discretizar el atributo **Atr6** en 3 intervalos de acuerdo al método Binning:\n",
    "1. De igual **profundidad**: Aproximadamente el mismo número de ejemplos por grupo.\n",
    "2. De igual **amplitud**: Divide el rango en N intervalos de igual tamaño."
   ]
  },
  {
   "cell_type": "code",
   "execution_count": 52,
   "metadata": {},
   "outputs": [
    {
     "data": {
      "text/html": [
       "<div>\n",
       "<style scoped>\n",
       "    .dataframe tbody tr th:only-of-type {\n",
       "        vertical-align: middle;\n",
       "    }\n",
       "\n",
       "    .dataframe tbody tr th {\n",
       "        vertical-align: top;\n",
       "    }\n",
       "\n",
       "    .dataframe thead th {\n",
       "        text-align: right;\n",
       "    }\n",
       "</style>\n",
       "<table border=\"1\" class=\"dataframe\">\n",
       "  <thead>\n",
       "    <tr style=\"text-align: right;\">\n",
       "      <th></th>\n",
       "      <th>Atr6 ordenado</th>\n",
       "      <th>a) Igual profundidad</th>\n",
       "      <th>b) Igual amplitud</th>\n",
       "    </tr>\n",
       "  </thead>\n",
       "  <tbody>\n",
       "    <tr>\n",
       "      <th>0</th>\n",
       "      <td>30</td>\n",
       "      <td>low</td>\n",
       "      <td>low</td>\n",
       "    </tr>\n",
       "    <tr>\n",
       "      <th>1</th>\n",
       "      <td>32</td>\n",
       "      <td>low</td>\n",
       "      <td>low</td>\n",
       "    </tr>\n",
       "    <tr>\n",
       "      <th>2</th>\n",
       "      <td>275</td>\n",
       "      <td>low</td>\n",
       "      <td>high</td>\n",
       "    </tr>\n",
       "    <tr>\n",
       "      <th>3</th>\n",
       "      <td>279</td>\n",
       "      <td>low</td>\n",
       "      <td>high</td>\n",
       "    </tr>\n",
       "    <tr>\n",
       "      <th>4</th>\n",
       "      <td>285</td>\n",
       "      <td>medium</td>\n",
       "      <td>high</td>\n",
       "    </tr>\n",
       "    <tr>\n",
       "      <th>5</th>\n",
       "      <td>301</td>\n",
       "      <td>medium</td>\n",
       "      <td>high</td>\n",
       "    </tr>\n",
       "    <tr>\n",
       "      <th>6</th>\n",
       "      <td>313</td>\n",
       "      <td>medium</td>\n",
       "      <td>high</td>\n",
       "    </tr>\n",
       "    <tr>\n",
       "      <th>7</th>\n",
       "      <td>326</td>\n",
       "      <td>high</td>\n",
       "      <td>high</td>\n",
       "    </tr>\n",
       "    <tr>\n",
       "      <th>8</th>\n",
       "      <td>342</td>\n",
       "      <td>high</td>\n",
       "      <td>high</td>\n",
       "    </tr>\n",
       "    <tr>\n",
       "      <th>9</th>\n",
       "      <td>348</td>\n",
       "      <td>high</td>\n",
       "      <td>high</td>\n",
       "    </tr>\n",
       "  </tbody>\n",
       "</table>\n",
       "</div>"
      ],
      "text/plain": [
       "   Atr6 ordenado a) Igual profundidad b) Igual amplitud\n",
       "0             30                  low               low\n",
       "1             32                  low               low\n",
       "2            275                  low              high\n",
       "3            279                  low              high\n",
       "4            285               medium              high\n",
       "5            301               medium              high\n",
       "6            313               medium              high\n",
       "7            326                 high              high\n",
       "8            342                 high              high\n",
       "9            348                 high              high"
      ]
     },
     "execution_count": 52,
     "metadata": {},
     "output_type": "execute_result"
    }
   ],
   "source": [
    "atr6_ord = df[\"Atr6\"].values.tolist()\n",
    "atr6_ord.sort()\n",
    "\n",
    "df2 = pd.DataFrame({'Atr6 ordenado': atr6_ord})\n",
    "\n",
    "df2['a) Igual profundidad'] = pd.qcut(df2['Atr6 ordenado'], 3, labels=['low', 'medium', 'high'])\n",
    "df2['b) Igual amplitud']    = pd.cut(df2['Atr6 ordenado'],  3, labels=['low', 'medium', 'high'])\n",
    "df2"
   ]
  },
  {
   "cell_type": "code",
   "execution_count": 81,
   "metadata": {},
   "outputs": [
    {
     "data": {
      "text/plain": [
       "IntervalIndex([(30.0, 136.0], (136.0, 242.0], (242.0, 348.0]],\n",
       "              closed='right',\n",
       "              dtype='interval[float64]')"
      ]
     },
     "execution_count": 81,
     "metadata": {},
     "output_type": "execute_result"
    }
   ],
   "source": [
    "pd.cut(df2[\"Atr6 ordenado\"], 3, precision=0).cat.categories\n"
   ]
  },
  {
   "cell_type": "code",
   "execution_count": 82,
   "metadata": {},
   "outputs": [
    {
     "data": {
      "text/plain": [
       "IntervalIndex([(29, 279], (279, 313], (313, 348]],\n",
       "              closed='right',\n",
       "              dtype='interval[int64]')"
      ]
     },
     "execution_count": 82,
     "metadata": {},
     "output_type": "execute_result"
    }
   ],
   "source": [
    "pd.qcut(df2[\"Atr6 ordenado\"], 3, precision=0).cat.categories"
   ]
  },
  {
   "cell_type": "code",
   "execution_count": 3,
   "metadata": {},
   "outputs": [
    {
     "data": {
      "image/png": "[encoded data removed]",
      "text/plain": [
       "<Figure size 432x432 with 16 Axes>"
      ]
     },
     "metadata": {
      "needs_background": "light"
     },
     "output_type": "display_data"
    }
   ],
   "source": [
    "pd.plotting.scatter_matrix(df, figsize=(6, 6))\n",
    "plt.show()"
   ]
  }
 ],
 "metadata": {
  "kernelspec": {
   "display_name": "Python 3",
   "language": "python",
   "name": "python3"
  },
  "language_info": {
   "codemirror_mode": {
    "name": "ipython",
    "version": 3
   },
   "file_extension": ".py",
   "mimetype": "text/x-python",
   "name": "python",
   "nbconvert_exporter": "python",
   "pygments_lexer": "ipython3",
   "version": "3.7.2"
  }
 },
 "nbformat": 4,
 "nbformat_minor": 2
}
