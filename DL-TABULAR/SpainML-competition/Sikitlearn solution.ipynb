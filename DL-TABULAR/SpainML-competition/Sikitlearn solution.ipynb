{
 "cells": [
  {
   "cell_type": "code",
   "execution_count": 1,
   "metadata": {},
   "outputs": [],
   "source": [
    "import matplotlib.pyplot as plt\n",
    "import seaborn as sns\n",
    "import pandas as pd\n",
    "import numpy as np\n",
    "import matplotlib\n",
    "import pathlib\n",
    "import numpy as np"
   ]
  },
  {
   "cell_type": "markdown",
   "metadata": {},
   "source": [
    "# Read data"
   ]
  },
  {
   "cell_type": "code",
   "execution_count": 2,
   "metadata": {},
   "outputs": [],
   "source": [
    "path     = pathlib.Path(\"data\")\n",
    "df_train = pd.read_csv(path / 'train.csv')\n",
    "df_test  = pd.read_csv(path / 'test.csv')\n",
    "df_subm  = pd.read_csv(path / 'sample_submission.csv')"
   ]
  },
  {
   "cell_type": "markdown",
   "metadata": {},
   "source": [
    "# EDA"
   ]
  },
  {
   "cell_type": "code",
   "execution_count": 3,
   "metadata": {},
   "outputs": [
    {
     "name": "stdout",
     "output_type": "stream",
     "text": [
      "Train: (29000, 25)\n",
      "Test: (1000, 24)\n"
     ]
    },
    {
     "data": {
      "text/html": [
       "<div>\n",
       "<style scoped>\n",
       "    .dataframe tbody tr th:only-of-type {\n",
       "        vertical-align: middle;\n",
       "    }\n",
       "\n",
       "    .dataframe tbody tr th {\n",
       "        vertical-align: top;\n",
       "    }\n",
       "\n",
       "    .dataframe thead th {\n",
       "        text-align: right;\n",
       "    }\n",
       "</style>\n",
       "<table border=\"1\" class=\"dataframe\">\n",
       "  <thead>\n",
       "    <tr style=\"text-align: right;\">\n",
       "      <th></th>\n",
       "      <th>Unnamed: 0</th>\n",
       "      <th>LIMIT_BAL</th>\n",
       "      <th>SEX</th>\n",
       "      <th>EDUCATION</th>\n",
       "      <th>MARRIAGE</th>\n",
       "      <th>AGE</th>\n",
       "      <th>PAY_0</th>\n",
       "      <th>PAY_2</th>\n",
       "      <th>PAY_3</th>\n",
       "      <th>PAY_4</th>\n",
       "      <th>...</th>\n",
       "      <th>BILL_AMT4</th>\n",
       "      <th>BILL_AMT5</th>\n",
       "      <th>BILL_AMT6</th>\n",
       "      <th>PAY_AMT1</th>\n",
       "      <th>PAY_AMT2</th>\n",
       "      <th>PAY_AMT3</th>\n",
       "      <th>PAY_AMT4</th>\n",
       "      <th>PAY_AMT5</th>\n",
       "      <th>PAY_AMT6</th>\n",
       "      <th>default.payment.next.month</th>\n",
       "    </tr>\n",
       "  </thead>\n",
       "  <tbody>\n",
       "    <tr>\n",
       "      <th>0</th>\n",
       "      <td>0</td>\n",
       "      <td>300000.0</td>\n",
       "      <td>1</td>\n",
       "      <td>1</td>\n",
       "      <td>1</td>\n",
       "      <td>45</td>\n",
       "      <td>-1</td>\n",
       "      <td>-1</td>\n",
       "      <td>-1</td>\n",
       "      <td>-1</td>\n",
       "      <td>...</td>\n",
       "      <td>6666.0</td>\n",
       "      <td>8333.0</td>\n",
       "      <td>8333.0</td>\n",
       "      <td>0.0</td>\n",
       "      <td>24000.0</td>\n",
       "      <td>6666.0</td>\n",
       "      <td>10000.0</td>\n",
       "      <td>8333.0</td>\n",
       "      <td>15449.0</td>\n",
       "      <td>1</td>\n",
       "    </tr>\n",
       "    <tr>\n",
       "      <th>1</th>\n",
       "      <td>1</td>\n",
       "      <td>90000.0</td>\n",
       "      <td>2</td>\n",
       "      <td>2</td>\n",
       "      <td>1</td>\n",
       "      <td>48</td>\n",
       "      <td>0</td>\n",
       "      <td>0</td>\n",
       "      <td>0</td>\n",
       "      <td>0</td>\n",
       "      <td>...</td>\n",
       "      <td>47193.0</td>\n",
       "      <td>48105.0</td>\n",
       "      <td>49327.0</td>\n",
       "      <td>1723.0</td>\n",
       "      <td>2393.0</td>\n",
       "      <td>2090.0</td>\n",
       "      <td>2000.0</td>\n",
       "      <td>2000.0</td>\n",
       "      <td>1803.0</td>\n",
       "      <td>0</td>\n",
       "    </tr>\n",
       "    <tr>\n",
       "      <th>2</th>\n",
       "      <td>2</td>\n",
       "      <td>360000.0</td>\n",
       "      <td>2</td>\n",
       "      <td>3</td>\n",
       "      <td>2</td>\n",
       "      <td>38</td>\n",
       "      <td>-1</td>\n",
       "      <td>-1</td>\n",
       "      <td>-1</td>\n",
       "      <td>-2</td>\n",
       "      <td>...</td>\n",
       "      <td>0.0</td>\n",
       "      <td>1444.0</td>\n",
       "      <td>-1382.0</td>\n",
       "      <td>3060.0</td>\n",
       "      <td>0.0</td>\n",
       "      <td>0.0</td>\n",
       "      <td>1444.0</td>\n",
       "      <td>1382.0</td>\n",
       "      <td>0.0</td>\n",
       "      <td>0</td>\n",
       "    </tr>\n",
       "    <tr>\n",
       "      <th>3</th>\n",
       "      <td>3</td>\n",
       "      <td>30000.0</td>\n",
       "      <td>2</td>\n",
       "      <td>2</td>\n",
       "      <td>1</td>\n",
       "      <td>30</td>\n",
       "      <td>-1</td>\n",
       "      <td>2</td>\n",
       "      <td>-1</td>\n",
       "      <td>-1</td>\n",
       "      <td>...</td>\n",
       "      <td>0.0</td>\n",
       "      <td>1083.0</td>\n",
       "      <td>3395.0</td>\n",
       "      <td>0.0</td>\n",
       "      <td>1000.0</td>\n",
       "      <td>398.0</td>\n",
       "      <td>1083.0</td>\n",
       "      <td>3395.0</td>\n",
       "      <td>7383.0</td>\n",
       "      <td>0</td>\n",
       "    </tr>\n",
       "    <tr>\n",
       "      <th>4</th>\n",
       "      <td>4</td>\n",
       "      <td>150000.0</td>\n",
       "      <td>2</td>\n",
       "      <td>3</td>\n",
       "      <td>1</td>\n",
       "      <td>48</td>\n",
       "      <td>0</td>\n",
       "      <td>0</td>\n",
       "      <td>0</td>\n",
       "      <td>2</td>\n",
       "      <td>...</td>\n",
       "      <td>39922.0</td>\n",
       "      <td>40953.0</td>\n",
       "      <td>42136.0</td>\n",
       "      <td>2000.0</td>\n",
       "      <td>4000.0</td>\n",
       "      <td>0.0</td>\n",
       "      <td>2000.0</td>\n",
       "      <td>2000.0</td>\n",
       "      <td>2000.0</td>\n",
       "      <td>0</td>\n",
       "    </tr>\n",
       "  </tbody>\n",
       "</table>\n",
       "<p>5 rows × 25 columns</p>\n",
       "</div>"
      ],
      "text/plain": [
       "   Unnamed: 0  LIMIT_BAL  SEX  EDUCATION  MARRIAGE  AGE  PAY_0  PAY_2  PAY_3  \\\n",
       "0           0   300000.0    1          1         1   45     -1     -1     -1   \n",
       "1           1    90000.0    2          2         1   48      0      0      0   \n",
       "2           2   360000.0    2          3         2   38     -1     -1     -1   \n",
       "3           3    30000.0    2          2         1   30     -1      2     -1   \n",
       "4           4   150000.0    2          3         1   48      0      0      0   \n",
       "\n",
       "   PAY_4  ...  BILL_AMT4  BILL_AMT5  BILL_AMT6  PAY_AMT1  PAY_AMT2  PAY_AMT3  \\\n",
       "0     -1  ...     6666.0     8333.0     8333.0       0.0   24000.0    6666.0   \n",
       "1      0  ...    47193.0    48105.0    49327.0    1723.0    2393.0    2090.0   \n",
       "2     -2  ...        0.0     1444.0    -1382.0    3060.0       0.0       0.0   \n",
       "3     -1  ...        0.0     1083.0     3395.0       0.0    1000.0     398.0   \n",
       "4      2  ...    39922.0    40953.0    42136.0    2000.0    4000.0       0.0   \n",
       "\n",
       "   PAY_AMT4  PAY_AMT5  PAY_AMT6  default.payment.next.month  \n",
       "0   10000.0    8333.0   15449.0                           1  \n",
       "1    2000.0    2000.0    1803.0                           0  \n",
       "2    1444.0    1382.0       0.0                           0  \n",
       "3    1083.0    3395.0    7383.0                           0  \n",
       "4    2000.0    2000.0    2000.0                           0  \n",
       "\n",
       "[5 rows x 25 columns]"
      ]
     },
     "execution_count": 3,
     "metadata": {},
     "output_type": "execute_result"
    }
   ],
   "source": [
    "print(\"Train:\", df_train.shape)\n",
    "print(\"Test:\", df_test.shape)\n",
    "df_train.head()"
   ]
  },
  {
   "cell_type": "code",
   "execution_count": 4,
   "metadata": {},
   "outputs": [],
   "source": [
    "binary  = [\"SEX\"]\n",
    "nominal = [\"EDUCATION\", \"MARRIAGE\"]\n",
    "pays    = [\"PAY_0\", \"PAY_2\", \"PAY_3\", \"PAY_4\", \"PAY_5\", \"PAY_6\"]\n",
    "numeric = [\"LIMIT_BAL\", \"AGE\", \"BILL_AMT1\", \"BILL_AMT2\", \"BILL_AMT3\", \"BILL_AMT4\", \"BILL_AMT5\",\n",
    "           \"BILL_AMT6\", \"PAY_AMT1\", \"PAY_AMT2\", \"PAY_AMT3\", \"PAY_AMT4\", \"PAY_AMT5\", \"PAY_AMT6\"]\n",
    "target  = \"default.payment.next.month\""
   ]
  },
  {
   "cell_type": "code",
   "execution_count": 5,
   "metadata": {},
   "outputs": [
    {
     "data": {
      "text/plain": [
       "False"
      ]
     },
     "execution_count": 5,
     "metadata": {},
     "output_type": "execute_result"
    }
   ],
   "source": [
    "df_train.isnull().any().any()"
   ]
  },
  {
   "cell_type": "code",
   "execution_count": 6,
   "metadata": {},
   "outputs": [
    {
     "data": {
      "image/png": "[encoded data removed]",
      "text/plain": [
       "<Figure size 432x288 with 1 Axes>"
      ]
     },
     "metadata": {},
     "output_type": "display_data"
    }
   ],
   "source": [
    "df_train[target].value_counts().plot.pie(autopct='%1.1f%%');"
   ]
  },
  {
   "cell_type": "markdown",
   "metadata": {},
   "source": [
    "# Preprocess"
   ]
  },
  {
   "cell_type": "code",
   "execution_count": 7,
   "metadata": {},
   "outputs": [
    {
     "name": "stdout",
     "output_type": "stream",
     "text": [
      "Train x: (29000, 24)\n",
      "Test  x: (1000, 24)\n",
      "Alls  x: (30000, 23)\n"
     ]
    },
    {
     "data": {
      "text/html": [
       "<div>\n",
       "<style scoped>\n",
       "    .dataframe tbody tr th:only-of-type {\n",
       "        vertical-align: middle;\n",
       "    }\n",
       "\n",
       "    .dataframe tbody tr th {\n",
       "        vertical-align: top;\n",
       "    }\n",
       "\n",
       "    .dataframe thead th {\n",
       "        text-align: right;\n",
       "    }\n",
       "</style>\n",
       "<table border=\"1\" class=\"dataframe\">\n",
       "  <thead>\n",
       "    <tr style=\"text-align: right;\">\n",
       "      <th></th>\n",
       "      <th>LIMIT_BAL</th>\n",
       "      <th>SEX</th>\n",
       "      <th>EDUCATION</th>\n",
       "      <th>MARRIAGE</th>\n",
       "      <th>AGE</th>\n",
       "      <th>PAY_0</th>\n",
       "      <th>PAY_2</th>\n",
       "      <th>PAY_3</th>\n",
       "      <th>PAY_4</th>\n",
       "      <th>PAY_5</th>\n",
       "      <th>...</th>\n",
       "      <th>BILL_AMT3</th>\n",
       "      <th>BILL_AMT4</th>\n",
       "      <th>BILL_AMT5</th>\n",
       "      <th>BILL_AMT6</th>\n",
       "      <th>PAY_AMT1</th>\n",
       "      <th>PAY_AMT2</th>\n",
       "      <th>PAY_AMT3</th>\n",
       "      <th>PAY_AMT4</th>\n",
       "      <th>PAY_AMT5</th>\n",
       "      <th>PAY_AMT6</th>\n",
       "    </tr>\n",
       "  </thead>\n",
       "  <tbody>\n",
       "    <tr>\n",
       "      <th>0</th>\n",
       "      <td>300000.0</td>\n",
       "      <td>0</td>\n",
       "      <td>1</td>\n",
       "      <td>1</td>\n",
       "      <td>45</td>\n",
       "      <td>-1</td>\n",
       "      <td>-1</td>\n",
       "      <td>-1</td>\n",
       "      <td>-1</td>\n",
       "      <td>-1</td>\n",
       "      <td>...</td>\n",
       "      <td>8333.0</td>\n",
       "      <td>6666.0</td>\n",
       "      <td>8333.0</td>\n",
       "      <td>8333.0</td>\n",
       "      <td>0.0</td>\n",
       "      <td>24000.0</td>\n",
       "      <td>6666.0</td>\n",
       "      <td>10000.0</td>\n",
       "      <td>8333.0</td>\n",
       "      <td>15449.0</td>\n",
       "    </tr>\n",
       "    <tr>\n",
       "      <th>1</th>\n",
       "      <td>90000.0</td>\n",
       "      <td>1</td>\n",
       "      <td>2</td>\n",
       "      <td>1</td>\n",
       "      <td>48</td>\n",
       "      <td>0</td>\n",
       "      <td>0</td>\n",
       "      <td>0</td>\n",
       "      <td>0</td>\n",
       "      <td>0</td>\n",
       "      <td>...</td>\n",
       "      <td>46174.0</td>\n",
       "      <td>47193.0</td>\n",
       "      <td>48105.0</td>\n",
       "      <td>49327.0</td>\n",
       "      <td>1723.0</td>\n",
       "      <td>2393.0</td>\n",
       "      <td>2090.0</td>\n",
       "      <td>2000.0</td>\n",
       "      <td>2000.0</td>\n",
       "      <td>1803.0</td>\n",
       "    </tr>\n",
       "    <tr>\n",
       "      <th>2</th>\n",
       "      <td>360000.0</td>\n",
       "      <td>1</td>\n",
       "      <td>3</td>\n",
       "      <td>2</td>\n",
       "      <td>38</td>\n",
       "      <td>-1</td>\n",
       "      <td>-1</td>\n",
       "      <td>-1</td>\n",
       "      <td>-2</td>\n",
       "      <td>-1</td>\n",
       "      <td>...</td>\n",
       "      <td>0.0</td>\n",
       "      <td>0.0</td>\n",
       "      <td>1444.0</td>\n",
       "      <td>-1382.0</td>\n",
       "      <td>3060.0</td>\n",
       "      <td>0.0</td>\n",
       "      <td>0.0</td>\n",
       "      <td>1444.0</td>\n",
       "      <td>1382.0</td>\n",
       "      <td>0.0</td>\n",
       "    </tr>\n",
       "    <tr>\n",
       "      <th>3</th>\n",
       "      <td>30000.0</td>\n",
       "      <td>1</td>\n",
       "      <td>2</td>\n",
       "      <td>1</td>\n",
       "      <td>30</td>\n",
       "      <td>-1</td>\n",
       "      <td>2</td>\n",
       "      <td>-1</td>\n",
       "      <td>-1</td>\n",
       "      <td>-1</td>\n",
       "      <td>...</td>\n",
       "      <td>937.0</td>\n",
       "      <td>0.0</td>\n",
       "      <td>1083.0</td>\n",
       "      <td>3395.0</td>\n",
       "      <td>0.0</td>\n",
       "      <td>1000.0</td>\n",
       "      <td>398.0</td>\n",
       "      <td>1083.0</td>\n",
       "      <td>3395.0</td>\n",
       "      <td>7383.0</td>\n",
       "    </tr>\n",
       "    <tr>\n",
       "      <th>4</th>\n",
       "      <td>150000.0</td>\n",
       "      <td>1</td>\n",
       "      <td>3</td>\n",
       "      <td>1</td>\n",
       "      <td>48</td>\n",
       "      <td>0</td>\n",
       "      <td>0</td>\n",
       "      <td>0</td>\n",
       "      <td>2</td>\n",
       "      <td>0</td>\n",
       "      <td>...</td>\n",
       "      <td>40874.0</td>\n",
       "      <td>39922.0</td>\n",
       "      <td>40953.0</td>\n",
       "      <td>42136.0</td>\n",
       "      <td>2000.0</td>\n",
       "      <td>4000.0</td>\n",
       "      <td>0.0</td>\n",
       "      <td>2000.0</td>\n",
       "      <td>2000.0</td>\n",
       "      <td>2000.0</td>\n",
       "    </tr>\n",
       "  </tbody>\n",
       "</table>\n",
       "<p>5 rows × 23 columns</p>\n",
       "</div>"
      ],
      "text/plain": [
       "   LIMIT_BAL  SEX  EDUCATION  MARRIAGE  AGE  PAY_0  PAY_2  PAY_3  PAY_4  \\\n",
       "0   300000.0    0          1         1   45     -1     -1     -1     -1   \n",
       "1    90000.0    1          2         1   48      0      0      0      0   \n",
       "2   360000.0    1          3         2   38     -1     -1     -1     -2   \n",
       "3    30000.0    1          2         1   30     -1      2     -1     -1   \n",
       "4   150000.0    1          3         1   48      0      0      0      2   \n",
       "\n",
       "   PAY_5  ...  BILL_AMT3  BILL_AMT4  BILL_AMT5  BILL_AMT6  PAY_AMT1  PAY_AMT2  \\\n",
       "0     -1  ...     8333.0     6666.0     8333.0     8333.0       0.0   24000.0   \n",
       "1      0  ...    46174.0    47193.0    48105.0    49327.0    1723.0    2393.0   \n",
       "2     -1  ...        0.0        0.0     1444.0    -1382.0    3060.0       0.0   \n",
       "3     -1  ...      937.0        0.0     1083.0     3395.0       0.0    1000.0   \n",
       "4      0  ...    40874.0    39922.0    40953.0    42136.0    2000.0    4000.0   \n",
       "\n",
       "   PAY_AMT3  PAY_AMT4  PAY_AMT5  PAY_AMT6  \n",
       "0    6666.0   10000.0    8333.0   15449.0  \n",
       "1    2090.0    2000.0    2000.0    1803.0  \n",
       "2       0.0    1444.0    1382.0       0.0  \n",
       "3     398.0    1083.0    3395.0    7383.0  \n",
       "4       0.0    2000.0    2000.0    2000.0  \n",
       "\n",
       "[5 rows x 23 columns]"
      ]
     },
     "execution_count": 7,
     "metadata": {},
     "output_type": "execute_result"
    }
   ],
   "source": [
    "n = len(df_train)                                  # Count number of train samples\n",
    "df_train_x = df_train.drop(columns=target)         # Delete target class from df_train\n",
    "df = pd.concat(objs=[df_train_x, df_test], axis=0, ignore_index=True) # Merge df_train_x with df_test\n",
    "df = df.drop(df.columns[0], axis=1)                # Drop first unnamed column\n",
    "\n",
    "print(\"Train x:\", df_train_x.shape)\n",
    "print(\"Test  x:\", df_test.shape)\n",
    "print(\"Alls  x:\", df.shape)\n",
    "\n",
    "##################################### Process Binary (0,1)\n",
    "df[binary] = df[binary] - 1\n",
    "\n",
    "##################################### Nominal (one hot)\n",
    "#df_nominals = pd.get_dummies(data = df[nominal],  columns=nominal, prefix=[\"EDUC\", \"MARR\"])\n",
    "#df = df.drop(columns=nominal)             # Delete old nominal columns\n",
    "#df = pd.concat([df, df_nominals], axis=1) # Appens new on hot nominals cols\n",
    "\n",
    "################################# GET new train x and test\n",
    "x       = df[:n]\n",
    "x_test  = df[n:]\n",
    "y       = df_train[target]\n",
    "\n",
    "ntrain = x.shape[0]\n",
    "ntest  = x_test.shape[0]\n",
    "\n",
    "x.head()"
   ]
  },
  {
   "cell_type": "markdown",
   "metadata": {},
   "source": [
    "# Models\n",
    "https://www.kaggle.com/eliotbarr/stacking-test-sklearn-xgboost-catboost-lightgbm"
   ]
  },
  {
   "cell_type": "code",
   "execution_count": 8,
   "metadata": {},
   "outputs": [],
   "source": [
    "# Cross validation\n",
    "from sklearn.model_selection import KFold, StratifiedKFold, RepeatedStratifiedKFold\n",
    "from sklearn.model_selection import cross_val_score\n",
    "\n",
    "# Search model parameters\n",
    "from sklearn.model_selection import GridSearchCV\n",
    "from sklearn.model_selection import RandomizedSearchCV\n",
    "# bayesian optimization\n",
    "\n",
    "# Models\n",
    "from sklearn.linear_model import LogisticRegression\n",
    "from sklearn.svm       import SVC \n",
    "from sklearn.neighbors import KNeighborsClassifier\n",
    "from sklearn.tree      import DecisionTreeClassifier\n",
    "from sklearn.ensemble import VotingClassifier\n",
    "from sklearn.ensemble import RandomForestClassifier\n",
    "from sklearn.ensemble import ExtraTreesClassifier\n",
    "from sklearn.ensemble import GradientBoostingClassifier\n",
    "import xgboost as xgb\n",
    "from catboost import CatBoostClassifier\n",
    "from lightgbm import LGBMClassifier\n",
    "from sklearn import metrics\n",
    "\n",
    "NFOLDS = 10\n",
    "SEED   = 0\n",
    "NROWS  = None\n",
    "\n",
    "#cv = KFold(                  n_splits=NFOLDS, shuffle=True, random_state=SEED)\n",
    "cv = StratifiedKFold(         n_splits=NFOLDS, shuffle=True, random_state=SEED)\n",
    "#cv = RepeatedStratifiedKFold(n_splits=NFOLDS, n_repeats=20, random_state=SEED)"
   ]
  },
  {
   "cell_type": "markdown",
   "metadata": {},
   "source": [
    "## Support Vector Machine"
   ]
  },
  {
   "cell_type": "code",
   "execution_count": null,
   "metadata": {},
   "outputs": [],
   "source": [
    "model = SVC()\n",
    "\n",
    "params = {\n",
    "  \"kernel\":       [\"rbf\"], \n",
    "  \"C\":            [0.1, 1, 5, 10, 100, 1000, 10000],\n",
    "  \"gamma\":        [0.0001, 0.001, 0.01, 0.1, 1.0, 'auto', 'scale'],\n",
    "  \"class_weight\": [\"balanced\"],\n",
    "  \"random_state\": [SEED]\n",
    "}\n",
    "\n",
    "grid_search = GridSearchCV(model, params, cv=NFOLDS, scoring='f1', n_jobs=-1)\n",
    "grid_search.fit(x, y)\n",
    "print('Best score: {}'.format(grid_search.best_score_))\n",
    "print('Best parameters: {}'.format(grid_search.best_params_))"
   ]
  },
  {
   "cell_type": "markdown",
   "metadata": {},
   "source": [
    "## Random forest"
   ]
  },
  {
   "cell_type": "code",
   "execution_count": 8,
   "metadata": {},
   "outputs": [
    {
     "name": "stdout",
     "output_type": "stream",
     "text": [
      "Best score: 0.5376629999598236\n",
      "Best parameters: {'bootstrap': False, 'class_weight': 'balanced', 'criterion': 'gini', 'max_depth': 10, 'max_features': 'sqrt', 'max_leaf_nodes': None, 'min_impurity_decrease': 0.0, 'min_impurity_split': None, 'min_samples_leaf': 4, 'min_samples_split': 2, 'min_weight_fraction_leaf': 0.0, 'n_estimators': 200, 'n_jobs': -1, 'oob_score': False, 'random_state': 0, 'verbose': 0, 'warm_start': False}\n"
     ]
    }
   ],
   "source": [
    "model  = RandomForestClassifier()\n",
    "params = {\n",
    "  \"n_estimators\":       [50, 100, 200], # The number of trees in the forest.\n",
    "  \"criterion\":          ['gini'],       # The function to measure the quality of a split.e, then nodes are expanded until all leaves are pure or until all leaves contain less than min_samples_split samples.\n",
    "  \"max_depth\":          [10, 12, 15],   # The maximum depth of the tree. If Non\n",
    "  \"min_samples_split\":  [2, 5],         # The minimum number of samples required to split an internal node.\n",
    "  \"min_samples_leaf\":   [1, 2, 4],      # The minimum number of samples required to be at a leaf node.\n",
    "  \"min_weight_fraction_leaf\":[0.0],\n",
    "  \"max_features\":       ['sqrt', 0.5],  # 0.2, 0.5 # The number of features to consider when looking for the best split\n",
    "  \"max_leaf_nodes\":     [None],\n",
    "  \"min_impurity_decrease\":[0.0],\n",
    "  \"min_impurity_split\": [None],\n",
    "  \"bootstrap\":          [False],\n",
    "  \"oob_score\":          [False],\n",
    "  \"n_jobs\":             [-1],\n",
    "  \"random_state\":       [SEED],\n",
    "  \"verbose\":            [0],\n",
    "  \"warm_start\":         [False],\n",
    "  \"class_weight\":       [\"balanced\"]\n",
    "}\n",
    "\n",
    "grid_search = GridSearchCV(model, params, cv=NFOLDS, scoring='f1', n_jobs=-1)\n",
    "grid_search.fit(x, y)\n",
    "print('Best score: {}'.format(grid_search.best_score_))\n",
    "print('Best parameters: {}'.format(grid_search.best_params_))"
   ]
  },
  {
   "cell_type": "code",
   "execution_count": 10,
   "metadata": {},
   "outputs": [
    {
     "data": {
      "text/plain": [
       "0.5407369523448531"
      ]
     },
     "execution_count": 10,
     "metadata": {},
     "output_type": "execute_result"
    }
   ],
   "source": [
    "best_params = {'n_estimators': 200,\n",
    "               'max_depth': 12,\n",
    "               'min_samples_split': 2,\n",
    "               'min_samples_leaf': 4,\n",
    "               'max_features': 'sqrt',\n",
    "               'bootstrap': False,\n",
    "               'n_jobs': -1,\n",
    "               'random_state': SEED,\n",
    "               'class_weight': 'balanced'\n",
    "              }\n",
    "\n",
    "rf = RandomForestClassifier(**best_params)\n",
    "rf.fit(x, y)\n",
    "cross_val_score(rf, x, y, scoring='f1', cv=10, n_jobs=-1).mean()"
   ]
  },
  {
   "cell_type": "markdown",
   "metadata": {},
   "source": [
    "## Extra Trees"
   ]
  },
  {
   "cell_type": "code",
   "execution_count": null,
   "metadata": {},
   "outputs": [],
   "source": [
    "model = ExtraTreesClassifier()\n",
    "\n",
    "params = {\n",
    "  \"n_estimators\":       [200],       # The number of trees in the forest.\n",
    "  \"criterion\":          ['gini'],    # The function to measure the quality of a split.e, then nodes are expanded until all leaves are pure or until all leaves contain less than min_samples_split samples.\n",
    "  \"max_depth\":          [10, 12],    # The maximum depth of the tree. If Non\n",
    "  \"min_samples_split\":  [2],         # The minimum number of samples required to split an internal node.\n",
    "  \"min_samples_leaf\":   [2, 4],      # The minimum number of samples required to be at a leaf node.\n",
    "  \"min_weight_fraction_leaf\":[0.0],\n",
    "  \"max_features\":       ['sqrt', 0.5], # 0.2, 0.5 # The number of features to consider when looking for the best split\n",
    "  \"max_leaf_nodes\":     [None],\n",
    "  \"min_impurity_decrease\":[0.0],\n",
    "  \"min_impurity_split\": [None],\n",
    "  \"bootstrap\":          [False],\n",
    "  \"oob_score\":          [False],\n",
    "  \"n_jobs\":             [-1],\n",
    "  \"random_state\":       [SEED],\n",
    "  \"verbose\":            [0],\n",
    "  \"warm_start\":         [False],\n",
    "  \"class_weight\":       [\"balanced\"]\n",
    "}\n",
    "\n",
    "grid_search = GridSearchCV(model, params, cv=NFOLDS, scoring='f1', n_jobs=-1)\n",
    "grid_search.fit(x, y)\n",
    "print('Best score: {}'.format(grid_search.best_score_))\n",
    "print('Best parameters: {}'.format(grid_search.best_params_))"
   ]
  },
  {
   "cell_type": "code",
   "execution_count": 11,
   "metadata": {},
   "outputs": [
    {
     "data": {
      "text/plain": [
       "0.5407369523448531"
      ]
     },
     "execution_count": 11,
     "metadata": {},
     "output_type": "execute_result"
    }
   ],
   "source": [
    "best_params = {'n_estimators': 200,\n",
    "               'max_depth': 12,\n",
    "               'min_samples_split': 2,\n",
    "               'min_samples_leaf': 4,\n",
    "               'max_features': 'sqrt',\n",
    "               'bootstrap': False,\n",
    "               'n_jobs': -1,\n",
    "               'random_state': SEED,\n",
    "               'class_weight': 'balanced'\n",
    "              }\n",
    "\n",
    "et = ExtraTreesClassifier(**best_params)\n",
    "et.fit(x,y);\n",
    "cross_val_score(rf, x, y, scoring='f1', cv=10, n_jobs=-1).mean()"
   ]
  },
  {
   "cell_type": "markdown",
   "metadata": {},
   "source": [
    "## Gradient boosting"
   ]
  },
  {
   "cell_type": "code",
   "execution_count": 12,
   "metadata": {},
   "outputs": [
    {
     "name": "stdout",
     "output_type": "stream",
     "text": [
      "Fitting 5 folds for each of 6 candidates, totalling 30 fits\n"
     ]
    },
    {
     "name": "stderr",
     "output_type": "stream",
     "text": [
      "[Parallel(n_jobs=-1)]: Using backend LokyBackend with 4 concurrent workers.\n",
      "[Parallel(n_jobs=-1)]: Done   5 tasks      | elapsed:    4.4s\n",
      "[Parallel(n_jobs=-1)]: Done  10 tasks      | elapsed:    9.1s\n",
      "[Parallel(n_jobs=-1)]: Done  17 tasks      | elapsed:   15.8s\n",
      "[Parallel(n_jobs=-1)]: Done  27 out of  30 | elapsed:   24.3s remaining:    2.6s\n",
      "[Parallel(n_jobs=-1)]: Done  30 out of  30 | elapsed:   26.5s finished\n"
     ]
    },
    {
     "name": "stdout",
     "output_type": "stream",
     "text": [
      "Best score: 0.47301940579737556\n",
      "Best parameters: {'learning_rate': 0.1, 'n_estimators': 100}\n"
     ]
    }
   ],
   "source": [
    "#\"learning_rate\": [0.001, 0.005, 0.01, 0.025, 0.05, 0.075, 0.1, 0.15, 0.2],\n",
    "#'n_estimators':  [100,250,500,750,1000,1250,1500,1750],\n",
    "\n",
    "model = GradientBoostingClassifier()\n",
    "params = {\n",
    "    \"learning_rate\": [0.001, 0.01, 0.1],\n",
    "    'n_estimators':  [100,200]\n",
    "    #\"subsample\":[0.5, 0.618, 0.8, 0.85, 0.9, 0.95, 1.0],\n",
    "    #\"min_samples_split\": np.linspace(0.1, 0.5, 12),\n",
    "    #\"min_samples_leaf\": np.linspace(0.1, 0.5, 12),#2\n",
    "    #\"max_depth\":[3,5,8],\n",
    "    #\"max_features\":[\"log2\",\"sqrt\"],\n",
    "    }\n",
    "\n",
    "grid_search = GridSearchCV(model, params, cv=5, scoring='f1', n_jobs=-1, verbose=10)\n",
    "grid_search.fit(x, y)\n",
    "print('Best score: {}'.format(grid_search.best_score_))\n",
    "print('Best parameters: {}'.format(grid_search.best_params_))"
   ]
  },
  {
   "cell_type": "markdown",
   "metadata": {},
   "source": [
    "## XGBoost"
   ]
  },
  {
   "cell_type": "code",
   "execution_count": 17,
   "metadata": {},
   "outputs": [
    {
     "ename": "ValueError",
     "evalue": "feature_names must be unique",
     "output_type": "error",
     "traceback": [
      "\u001b[1;31m---------------------------------------------------------------------------\u001b[0m",
      "\u001b[1;31mValueError\u001b[0m                                Traceback (most recent call last)",
      "\u001b[1;32m<ipython-input-17-60275a2a0200>\u001b[0m in \u001b[0;36m<module>\u001b[1;34m\u001b[0m\n\u001b[0;32m     15\u001b[0m \u001b[1;33m\u001b[0m\u001b[0m\n\u001b[0;32m     16\u001b[0m \u001b[0mgbm\u001b[0m \u001b[1;33m=\u001b[0m \u001b[0mxgb\u001b[0m\u001b[1;33m.\u001b[0m\u001b[0mXGBClassifier\u001b[0m\u001b[1;33m(\u001b[0m\u001b[1;33m)\u001b[0m\u001b[1;33m\u001b[0m\u001b[1;33m\u001b[0m\u001b[0m\n\u001b[1;32m---> 17\u001b[1;33m \u001b[0mgbm\u001b[0m\u001b[1;33m.\u001b[0m\u001b[0mfit\u001b[0m\u001b[1;33m(\u001b[0m\u001b[0mx\u001b[0m\u001b[1;33m,\u001b[0m \u001b[0my\u001b[0m\u001b[1;33m)\u001b[0m\u001b[1;33m\u001b[0m\u001b[1;33m\u001b[0m\u001b[0m\n\u001b[0m",
      "\u001b[1;32m~\\Anaconda3\\lib\\site-packages\\xgboost\\sklearn.py\u001b[0m in \u001b[0;36mfit\u001b[1;34m(self, X, y, sample_weight, eval_set, eval_metric, early_stopping_rounds, verbose, xgb_model, sample_weight_eval_set)\u001b[0m\n\u001b[0;32m    583\u001b[0m         \u001b[1;32melse\u001b[0m\u001b[1;33m:\u001b[0m\u001b[1;33m\u001b[0m\u001b[1;33m\u001b[0m\u001b[0m\n\u001b[0;32m    584\u001b[0m             train_dmatrix = DMatrix(X, label=training_labels,\n\u001b[1;32m--> 585\u001b[1;33m                                     missing=self.missing, nthread=self.n_jobs)\n\u001b[0m\u001b[0;32m    586\u001b[0m \u001b[1;33m\u001b[0m\u001b[0m\n\u001b[0;32m    587\u001b[0m         self._Booster = train(xgb_options, train_dmatrix, self.n_estimators,\n",
      "\u001b[1;32m~\\Anaconda3\\lib\\site-packages\\xgboost\\core.py\u001b[0m in \u001b[0;36m__init__\u001b[1;34m(self, data, label, missing, weight, silent, feature_names, feature_types, nthread)\u001b[0m\n\u001b[0;32m    383\u001b[0m                 \u001b[0mself\u001b[0m\u001b[1;33m.\u001b[0m\u001b[0mset_weight\u001b[0m\u001b[1;33m(\u001b[0m\u001b[0mweight\u001b[0m\u001b[1;33m)\u001b[0m\u001b[1;33m\u001b[0m\u001b[1;33m\u001b[0m\u001b[0m\n\u001b[0;32m    384\u001b[0m \u001b[1;33m\u001b[0m\u001b[0m\n\u001b[1;32m--> 385\u001b[1;33m         \u001b[0mself\u001b[0m\u001b[1;33m.\u001b[0m\u001b[0mfeature_names\u001b[0m \u001b[1;33m=\u001b[0m \u001b[0mfeature_names\u001b[0m\u001b[1;33m\u001b[0m\u001b[1;33m\u001b[0m\u001b[0m\n\u001b[0m\u001b[0;32m    386\u001b[0m         \u001b[0mself\u001b[0m\u001b[1;33m.\u001b[0m\u001b[0mfeature_types\u001b[0m \u001b[1;33m=\u001b[0m \u001b[0mfeature_types\u001b[0m\u001b[1;33m\u001b[0m\u001b[1;33m\u001b[0m\u001b[0m\n\u001b[0;32m    387\u001b[0m \u001b[1;33m\u001b[0m\u001b[0m\n",
      "\u001b[1;32m~\\Anaconda3\\lib\\site-packages\\xgboost\\core.py\u001b[0m in \u001b[0;36mfeature_names\u001b[1;34m(self, feature_names)\u001b[0m\n\u001b[0;32m    776\u001b[0m \u001b[1;33m\u001b[0m\u001b[0m\n\u001b[0;32m    777\u001b[0m             \u001b[1;32mif\u001b[0m \u001b[0mlen\u001b[0m\u001b[1;33m(\u001b[0m\u001b[0mfeature_names\u001b[0m\u001b[1;33m)\u001b[0m \u001b[1;33m!=\u001b[0m \u001b[0mlen\u001b[0m\u001b[1;33m(\u001b[0m\u001b[0mset\u001b[0m\u001b[1;33m(\u001b[0m\u001b[0mfeature_names\u001b[0m\u001b[1;33m)\u001b[0m\u001b[1;33m)\u001b[0m\u001b[1;33m:\u001b[0m\u001b[1;33m\u001b[0m\u001b[1;33m\u001b[0m\u001b[0m\n\u001b[1;32m--> 778\u001b[1;33m                 \u001b[1;32mraise\u001b[0m \u001b[0mValueError\u001b[0m\u001b[1;33m(\u001b[0m\u001b[1;34m'feature_names must be unique'\u001b[0m\u001b[1;33m)\u001b[0m\u001b[1;33m\u001b[0m\u001b[1;33m\u001b[0m\u001b[0m\n\u001b[0m\u001b[0;32m    779\u001b[0m             \u001b[1;32mif\u001b[0m \u001b[0mlen\u001b[0m\u001b[1;33m(\u001b[0m\u001b[0mfeature_names\u001b[0m\u001b[1;33m)\u001b[0m \u001b[1;33m!=\u001b[0m \u001b[0mself\u001b[0m\u001b[1;33m.\u001b[0m\u001b[0mnum_col\u001b[0m\u001b[1;33m(\u001b[0m\u001b[1;33m)\u001b[0m\u001b[1;33m:\u001b[0m\u001b[1;33m\u001b[0m\u001b[1;33m\u001b[0m\u001b[0m\n\u001b[0;32m    780\u001b[0m                 \u001b[0mmsg\u001b[0m \u001b[1;33m=\u001b[0m \u001b[1;34m'feature_names must have the same length as data'\u001b[0m\u001b[1;33m\u001b[0m\u001b[1;33m\u001b[0m\u001b[0m\n",
      "\u001b[1;31mValueError\u001b[0m: feature_names must be unique"
     ]
    }
   ],
   "source": [
    "gbm = xgb.XGBClassifier(max_depth     = 4,\n",
    "                        learning_rate = 0.075,\n",
    "                        n_estimators  = 300,\n",
    "                        silent        = 1,\n",
    "                        objective     = \"binary:logistic\",\n",
    "                        colsample_bytree  = 0.7,\n",
    "                        subsample         = 0.7,\n",
    "                        num_parallel_tree = 1,\n",
    "                        min_child_weight  = 1,\n",
    "                        nrounds           = 200,\n",
    "                        random_seed       = SEED\n",
    "                       )\n",
    "gbm.fit(x, y)"
   ]
  },
  {
   "cell_type": "markdown",
   "metadata": {},
   "source": [
    "## LightGBM"
   ]
  },
  {
   "cell_type": "code",
   "execution_count": 17,
   "metadata": {},
   "outputs": [
    {
     "name": "stdout",
     "output_type": "stream",
     "text": [
      "Fitting 10 folds for each of 144 candidates, totalling 1440 fits\n"
     ]
    },
    {
     "name": "stderr",
     "output_type": "stream",
     "text": [
      "[Parallel(n_jobs=-1)]: Using backend LokyBackend with 4 concurrent workers.\n",
      "[Parallel(n_jobs=-1)]: Done  10 tasks      | elapsed:    2.6s\n",
      "[Parallel(n_jobs=-1)]: Done  64 tasks      | elapsed:   17.0s\n",
      "[Parallel(n_jobs=-1)]: Done 154 tasks      | elapsed:   37.9s\n",
      "[Parallel(n_jobs=-1)]: Done 280 tasks      | elapsed:  1.2min\n",
      "[Parallel(n_jobs=-1)]: Done 442 tasks      | elapsed:  1.9min\n",
      "[Parallel(n_jobs=-1)]: Done 640 tasks      | elapsed:  2.6min\n",
      "[Parallel(n_jobs=-1)]: Done 874 tasks      | elapsed:  3.5min\n",
      "[Parallel(n_jobs=-1)]: Done 1144 tasks      | elapsed:  4.5min\n",
      "[Parallel(n_jobs=-1)]: Done 1440 out of 1440 | elapsed:  5.5min finished\n"
     ]
    },
    {
     "name": "stdout",
     "output_type": "stream",
     "text": [
      "Best score: 0.5444743741692162\n",
      "Best parameters: {'boosting_type': 'gbdt', 'class_weight': None, 'colsample_bytree': 0.8, 'is_unbalance': True, 'learning_rate': 0.01, 'max_depth': -1, 'min_child_samples': 20, 'min_child_weight': 0.001, 'min_split_gain': 0.01, 'n_estimators': 200, 'n_jobs': -1, 'num_leaves': 31, 'objective': 'binary', 'random_state': 0, 'reg_alpha': 0.1, 'reg_lambda': 0.1, 'subsample': 0.9, 'subsample_freq': 0}\n"
     ]
    }
   ],
   "source": [
    "model = LGBMClassifier()\n",
    "\n",
    "params = {\n",
    "    'boosting_type':    ['gbdt'],       # Traditional Gradient Boosting Decision Tree.\n",
    "    'num_leaves':       [31],           # Maximum tree leaves for base learners.\n",
    "    'max_depth':        [15, -1],       # Maximum tree depth for base learners, -1 means no limit.\n",
    "    'learning_rate':    [0.01, 0.05, 0.1], # Boosting learning rate.\n",
    "    'n_estimators':     [50, 100, 200], # Number of boosted trees to fit.\n",
    "    'objective':        ['binary'],     # Specify the learning task\n",
    "    'class_weight':     [None],         # Use this parameter only for multi-class classification task\n",
    "    'min_split_gain':   [0.0, 0.01],    # Minimum loss reduction required to make a further partition on a leaf node of the tree.\n",
    "    'min_child_weight': [0.001, 2],     # Minimum sum of instance weight (hessian) needed in a child (leaf).\n",
    "    'min_child_samples':[20],           # Minimum number of data needed in a child (leaf).\n",
    "    'subsample':        [0.9, 1.0],     # Subsample ratio of the training instance.\n",
    "    'subsample_freq':   [0],            # Frequence of subsample, <=0 means no enable.\n",
    "    'colsample_bytree': [0.8], # 1.0    # Subsample ratio of columns when constructing each tree.\n",
    "    'reg_alpha':        [0.1], # 0.0    # L1 regularization term on weights.\n",
    "    'reg_lambda':       [0.1], # 0.0    # L2 regularization term on weights.\n",
    "    'random_state':     [SEED],         # Random number seed.\n",
    "    'n_jobs':           [-1],           # Number of parallel threads.\n",
    "    'device':           ['gpu'],\n",
    "    'is_unbalance':     [True]          # Used only in binary application\n",
    "}\n",
    "\n",
    "grid_search = GridSearchCV(model, params, cv=5, scoring='f1', n_jobs=-1, verbose=5)\n",
    "grid_search.fit(x, y)\n",
    "print('Best score: {}'.format(grid_search.best_score_))\n",
    "print('Best parameters: {}'.format(grid_search.best_params_))"
   ]
  },
  {
   "cell_type": "code",
   "execution_count": 23,
   "metadata": {},
   "outputs": [
    {
     "name": "stdout",
     "output_type": "stream",
     "text": [
      "Best score: 0.54177628595992\n",
      "Best parameters: {'boosting_type': 'gbdt', 'class_weight': None, 'colsample_bytree': 0.8, 'is_unbalance': True, 'learning_rate': 0.05, 'max_depth': -1, 'min_child_samples': 20, 'min_child_weight': 0.001, 'min_split_gain': 0.0, 'n_estimators': 50, 'n_jobs': -1, 'num_leaves': 31, 'objective': 'binary', 'random_state': 0, 'reg_alpha': 0.1, 'reg_lambda': 0.1, 'subsample': 0.9, 'subsample_freq': 0}\n"
     ]
    }
   ],
   "source": [
    "model = LGBMClassifier()\n",
    "\n",
    "params = {\n",
    "    'boosting_type':    ['gbdt'],       # Traditional Gradient Boosting Decision Tree.\n",
    "    'num_leaves':       [31],           # Maximum tree leaves for base learners.\n",
    "    'max_depth':        [15, -1],       # Maximum tree depth for base learners, -1 means no limit.\n",
    "    'learning_rate':    [0.01, 0.05],   # Boosting learning rate.\n",
    "    'n_estimators':     [50, 100, 200], # Number of boosted trees to fit.\n",
    "    'objective':        ['binary'],     # Specify the learning task\n",
    "    'class_weight':     [None],         # Use this parameter only for multi-class classification task\n",
    "    'min_split_gain':   [0.0, 0.01],    # Minimum loss reduction required to make a further partition on a leaf node of the tree.\n",
    "    'min_child_weight': [0.001, 2],     # Minimum sum of instance weight (hessian) needed in a child (leaf).\n",
    "    'min_child_samples':[20],           # Minimum number of data needed in a child (leaf).\n",
    "    'subsample':        [0.9, 1.0],     # Subsample ratio of the training instance.\n",
    "    'subsample_freq':   [0],            # Frequence of subsample, <=0 means no enable.\n",
    "    'colsample_bytree': [0.8], # 1.0    # Subsample ratio of columns when constructing each tree.\n",
    "    'reg_alpha':        [0.1], # 0.0    # L1 regularization term on weights.\n",
    "    'reg_lambda':       [0.1], # 0.0    # L2 regularization term on weights.\n",
    "    'random_state':     [SEED],         # Random number seed.\n",
    "    'n_jobs':           [-1],           # Number of parallel threads.\n",
    "    'device':           ['gpu'],\n",
    "    'is_unbalance':     [True]          # Used only in binary application\n",
    "}\n",
    "\n",
    "grid_search = GridSearchCV(model, params, cv=5, scoring='f1', n_jobs=-1, verbose=5)\n",
    "grid_search.fit(x, y)\n",
    "print('Best score: {}'.format(grid_search.best_score_))\n",
    "print('Best parameters: {}'.format(grid_search.best_params_))"
   ]
  },
  {
   "cell_type": "code",
   "execution_count": 14,
   "metadata": {},
   "outputs": [
    {
     "data": {
      "text/plain": [
       "0.5415906354571838"
      ]
     },
     "execution_count": 14,
     "metadata": {},
     "output_type": "execute_result"
    }
   ],
   "source": [
    "best_params = {\n",
    "  \"boosting_type\":     'gbdt',\n",
    "  \"num_leaves\":        31,\n",
    "  \"max_depth\":         -1,\n",
    "  \"learning_rate\":     0.01,\n",
    "  \"n_estimators\":      50,\n",
    "  \"subsample_for_bin\": 200000,\n",
    "  \"objective\":         'binary',\n",
    "  \"class_weight\":      None,\n",
    "  \"min_split_gain\":    0.01,\n",
    "  \"min_child_weight\":  0.001,\n",
    "  \"min_child_samples\": 20,\n",
    "  \"subsample\":         0.9,\n",
    "  \"subsample_freq\":    0,\n",
    "  \"colsample_bytree\":  0.8,\n",
    "  \"reg_alpha\":         0.1,\n",
    "  \"reg_lambda\":        0.1,\n",
    "  \"random_state\":     SEED,\n",
    "  \"n_jobs\":           -1,\n",
    "  \"is_unbalance\":     True\n",
    "}\n",
    "\n",
    "lgb = LGBMClassifier(**best_params)\n",
    "lgb.fit(x, y)\n",
    "cross_val_score(lgb, x, y, scoring='f1', cv=10, n_jobs=-1).mean()"
   ]
  },
  {
   "cell_type": "markdown",
   "metadata": {},
   "source": [
    "## CatBoost"
   ]
  },
  {
   "cell_type": "code",
   "execution_count": null,
   "metadata": {},
   "outputs": [],
   "source": [
    "catboost_params = {\n",
    "    'iterations': 200,\n",
    "    'learning_rate': 0.5,\n",
    "    'depth': 3,\n",
    "    'l2_leaf_reg': 40,\n",
    "    'bootstrap_type': 'Bernoulli',\n",
    "    'subsample': 0.7,\n",
    "    'scale_pos_weight': 5,\n",
    "    'eval_metric': 'AUC',\n",
    "    'od_type': 'Iter',\n",
    "    'allow_writing_files': False\n",
    "}"
   ]
  },
  {
   "cell_type": "markdown",
   "metadata": {},
   "source": [
    "## Staking"
   ]
  },
  {
   "cell_type": "code",
   "execution_count": 16,
   "metadata": {},
   "outputs": [],
   "source": [
    "def get_pred(clf):\n",
    "    pred_train = np.zeros((ntrain,))\n",
    "    pred_test = np.zeros((ntest,))\n",
    "    pred_test_skf = np.empty((NFOLDS, ntest))\n",
    "\n",
    "    for i, (train_index, test_index) in enumerate(cv.split(x, y)):\n",
    "        x_tr = x.loc[train_index]\n",
    "        y_tr = y.loc[train_index]\n",
    "        x_te = x.loc[test_index]\n",
    "\n",
    "        clf.fit(x_tr, y_tr)\n",
    "\n",
    "        pred_train[test_index] = clf.predict_proba(x_te)[:,1]\n",
    "        pred_test_skf[i, :]    = clf.predict_proba(x_test)[:,1]\n",
    "        #pred_train[test_index] = clf.predict(x_te)\n",
    "        #pred_test_skf[i, :]    = clf.predict(x_test)\n",
    "\n",
    "    pred_test[:] = pred_test_skf.mean(axis=0)\n",
    "    return pred_train.reshape(-1, 1), pred_test.reshape(-1, 1)"
   ]
  },
  {
   "cell_type": "code",
   "execution_count": 17,
   "metadata": {},
   "outputs": [],
   "source": [
    "rf_pred_train, rf_pred_test = get_pred(rf)"
   ]
  },
  {
   "cell_type": "code",
   "execution_count": 18,
   "metadata": {},
   "outputs": [],
   "source": [
    "et_pred_train, et_pred_test = get_pred(et)"
   ]
  },
  {
   "cell_type": "code",
   "execution_count": 19,
   "metadata": {},
   "outputs": [],
   "source": [
    "lgb_pred_train, lgb_pred_test = get_pred(lgb)"
   ]
  },
  {
   "cell_type": "code",
   "execution_count": 33,
   "metadata": {},
   "outputs": [
    {
     "name": "stdout",
     "output_type": "stream",
     "text": [
      "METRICAS F1\n",
      "Random forest: 0.5374585635359116\n",
      "Extra Trees:   0.5406712589769894\n",
      "LightGBM:      0.540536743009695\n"
     ]
    }
   ],
   "source": [
    "from sklearn.metrics import f1_score\n",
    "print(\"METRICAS F1\")\n",
    "print(\"Random forest:\", f1_score(y, rf_pred_train[:,0]))\n",
    "print(\"Extra Trees:  \", f1_score(y, et_pred_train[:,0]))\n",
    "print(\"LightGBM:     \", f1_score(y, lgb_pred_train[:,0]))"
   ]
  },
  {
   "cell_type": "code",
   "execution_count": 21,
   "metadata": {},
   "outputs": [
    {
     "name": "stdout",
     "output_type": "stream",
     "text": [
      "(29000, 3),(1000, 3)\n"
     ]
    }
   ],
   "source": [
    "allModels_pred_train = np.concatenate((rf_pred_train, et_pred_train, lgb_pred_train), axis=1)\n",
    "allModels_pred_test  = np.concatenate((rf_pred_test, et_pred_test, lgb_pred_test), axis=1)\n",
    "print(\"{},{}\".format(allModels_pred_train.shape, allModels_pred_test.shape))"
   ]
  },
  {
   "cell_type": "code",
   "execution_count": 22,
   "metadata": {},
   "outputs": [
    {
     "name": "stderr",
     "output_type": "stream",
     "text": [
      "C:\\Users\\Javi\\Anaconda3\\lib\\site-packages\\sklearn\\linear_model\\logistic.py:433: FutureWarning: Default solver will be changed to 'lbfgs' in 0.22. Specify a solver to silence this warning.\n",
      "  FutureWarning)\n"
     ]
    },
    {
     "data": {
      "text/plain": [
       "LogisticRegression(C=1.0, class_weight=None, dual=False, fit_intercept=True,\n",
       "          intercept_scaling=1, max_iter=100, multi_class='warn',\n",
       "          n_jobs=None, penalty='l2', random_state=None, solver='warn',\n",
       "          tol=0.0001, verbose=0, warm_start=False)"
      ]
     },
     "execution_count": 22,
     "metadata": {},
     "output_type": "execute_result"
    }
   ],
   "source": [
    "logistic_regression = LogisticRegression()\n",
    "logistic_regression.fit(allModels_pred_train, y)"
   ]
  },
  {
   "cell_type": "code",
   "execution_count": 23,
   "metadata": {},
   "outputs": [],
   "source": [
    "#df_subm[\"prediction\"] = logistic_regression.predict_proba(allModels_pred_test)[:,1]\n",
    "df_subm[\"prediction\"] = logistic_regression.predict(allModels_pred_test)"
   ]
  },
  {
   "cell_type": "code",
   "execution_count": 24,
   "metadata": {},
   "outputs": [
    {
     "data": {
      "text/html": [
       "<div>\n",
       "<style scoped>\n",
       "    .dataframe tbody tr th:only-of-type {\n",
       "        vertical-align: middle;\n",
       "    }\n",
       "\n",
       "    .dataframe tbody tr th {\n",
       "        vertical-align: top;\n",
       "    }\n",
       "\n",
       "    .dataframe thead th {\n",
       "        text-align: right;\n",
       "    }\n",
       "</style>\n",
       "<table border=\"1\" class=\"dataframe\">\n",
       "  <thead>\n",
       "    <tr style=\"text-align: right;\">\n",
       "      <th></th>\n",
       "      <th>id</th>\n",
       "      <th>prediction</th>\n",
       "    </tr>\n",
       "  </thead>\n",
       "  <tbody>\n",
       "    <tr>\n",
       "      <th>0</th>\n",
       "      <td>29000</td>\n",
       "      <td>1</td>\n",
       "    </tr>\n",
       "    <tr>\n",
       "      <th>1</th>\n",
       "      <td>29001</td>\n",
       "      <td>1</td>\n",
       "    </tr>\n",
       "    <tr>\n",
       "      <th>2</th>\n",
       "      <td>29002</td>\n",
       "      <td>0</td>\n",
       "    </tr>\n",
       "    <tr>\n",
       "      <th>3</th>\n",
       "      <td>29003</td>\n",
       "      <td>0</td>\n",
       "    </tr>\n",
       "    <tr>\n",
       "      <th>4</th>\n",
       "      <td>29004</td>\n",
       "      <td>0</td>\n",
       "    </tr>\n",
       "  </tbody>\n",
       "</table>\n",
       "</div>"
      ],
      "text/plain": [
       "      id  prediction\n",
       "0  29000           1\n",
       "1  29001           1\n",
       "2  29002           0\n",
       "3  29003           0\n",
       "4  29004           0"
      ]
     },
     "execution_count": 24,
     "metadata": {},
     "output_type": "execute_result"
    }
   ],
   "source": [
    "df_subm.head()"
   ]
  },
  {
   "cell_type": "code",
   "execution_count": 25,
   "metadata": {},
   "outputs": [],
   "source": [
    "df_subm.to_csv('3_submission.csv', index=False, float_format='%.8f')"
   ]
  },
  {
   "cell_type": "code",
   "execution_count": null,
   "metadata": {},
   "outputs": [],
   "source": []
  }
 ],
 "metadata": {
  "kernelspec": {
   "display_name": "Python 3",
   "language": "python",
   "name": "python3"
  },
  "language_info": {
   "codemirror_mode": {
    "name": "ipython",
    "version": 3
   },
   "file_extension": ".py",
   "mimetype": "text/x-python",
   "name": "python",
   "nbconvert_exporter": "python",
   "pygments_lexer": "ipython3",
   "version": "3.7.1"
  }
 },
 "nbformat": 4,
 "nbformat_minor": 2
}
