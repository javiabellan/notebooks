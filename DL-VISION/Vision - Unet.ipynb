{
 "cells": [
  {
   "cell_type": "markdown",
   "metadata": {},
   "source": [
    "[notebook](https://github.com/fastai/course-v3/blob/master/nbs/dl1/lesson3-camvid-tiramisu.ipynb)"
   ]
  },
  {
   "cell_type": "markdown",
   "metadata": {},
   "source": [
    "## How to double size?\n",
    "\n",
    "Stride half convolution = deconvolution = transpose convolution\n",
    "\n",
    "**BAD**: You add 1px border padding and also 1px padding between pixels.\n",
    "\n",
    "**GOOD**:\n",
    " 1. Interpolation (scale x2)\n",
    "   - Nearest neighbour interpolation: Copy values\n",
    "   - Bilinear interpolation: Weighted average of the pixel\n",
    "   - Pixel shuffle\n",
    "   - ICNR\n",
    " 2. and then 1x1 convolutions"
   ]
  }
 ],
 "metadata": {
  "kernelspec": {
   "display_name": "Python 3",
   "language": "python",
   "name": "python3"
  },
  "language_info": {
   "codemirror_mode": {
    "name": "ipython",
    "version": 3
   },
   "file_extension": ".py",
   "mimetype": "text/x-python",
   "name": "python",
   "nbconvert_exporter": "python",
   "pygments_lexer": "ipython3",
   "version": "3.7.2"
  }
 },
 "nbformat": 4,
 "nbformat_minor": 2
}
