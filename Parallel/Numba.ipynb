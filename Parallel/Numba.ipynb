{
 "cells": [
  {
   "cell_type": "code",
   "execution_count": 1,
   "metadata": {},
   "outputs": [
    {
     "name": "stdout",
     "output_type": "stream",
     "text": [
      "Numba 0.42.0\n"
     ]
    }
   ],
   "source": [
    "import numpy as np\n",
    "import seaborn as sns\n",
    "import matplotlib.pyplot as plt\n",
    "sns.set()\n",
    "\n",
    "import numba\n",
    "from numba import jit, njit, vectorize, cuda\n",
    "\n",
    "print(\"Numba\", numba.__version__)"
   ]
  },
  {
   "cell_type": "markdown",
   "metadata": {},
   "source": [
    "# Numba [link 1](https://towardsdatascience.com/speed-up-your-algorithms-part-2-numba-293e554c5cc1) [link 2](https://nbviewer.jupyter.org/github/vistalab-technion/cs236605-tutorials/blob/master/tutorial10/tutorial10-cuda.ipynb)\n",
    "\n",
    "Works well with **numpy**, but not with pandas\n",
    "\n",
    "## Scenarios\n",
    "- **Object mode** `@jit`\n",
    "- **Compile mode** `@jit(nopython=True)`\n",
    "- **Multithreading** `@jit(nopython=True, parallel=True)`\n",
    "  - Automatic multithreading of array expressions and reductions\n",
    "  - Explicit multithreading of loops with `prange()`\n",
    "  - External multithreading with tools like concurrent.futures or Dask.\n",
    "- **Vectorization SIMD** `@vectorize`"
   ]
  },
  {
   "cell_type": "code",
   "execution_count": 5,
   "metadata": {},
   "outputs": [],
   "source": [
    "@jit(nopython=True)\n",
    "def go_fast(a): # Function is compiled to machine code when called the first time\n",
    "    trace = 0\n",
    "    # assuming square input matrix\n",
    "    for i in range(a.shape[0]):   # Numba likes loops\n",
    "        trace += np.tanh(a[i, i]) # Numba likes NumPy functions\n",
    "    return a + trace              # Numba likes NumPy broadcasting"
   ]
  },
  {
   "cell_type": "markdown",
   "metadata": {},
   "source": [
    "The function has not yet been compiled. To do that, we need to call the function:"
   ]
  },
  {
   "cell_type": "markdown",
   "metadata": {},
   "source": [
    "If we call it again, it executes without another compilation step."
   ]
  },
  {
   "cell_type": "markdown",
   "metadata": {},
   "source": [
    "## benchmark\n",
    "\n",
    "To benchmark Numba-compiled functions, the %timeit magic function is the best to use because it runs the function many times in a loop to get a more accurate estimate of the execution time of short functions."
   ]
  },
  {
   "cell_type": "code",
   "execution_count": 9,
   "metadata": {},
   "outputs": [
    {
     "name": "stdout",
     "output_type": "stream",
     "text": [
      "608 ns ± 2.48 ns per loop (mean ± std. dev. of 7 runs, 1000000 loops each)\n",
      "14.4 µs ± 67 ns per loop (mean ± std. dev. of 7 runs, 100000 loops each)\n"
     ]
    }
   ],
   "source": [
    "x = np.arange(100).reshape(10, 10)\n",
    "go_fast(x);\n",
    "%timeit go_fast(x)         # With numba   \n",
    "%timeit go_fast.py_func(x) # Without numba"
   ]
  },
  {
   "cell_type": "code",
   "execution_count": 4,
   "metadata": {},
   "outputs": [
    {
     "data": {
      "text/plain": [
       "Text(0.5, 0, 'Method')"
      ]
     },
     "execution_count": 4,
     "metadata": {},
     "output_type": "execute_result"
    },
    {
     "data": {
      "image/png": "[encoded data removed]",
      "text/plain": [
       "<Figure size 432x288 with 1 Axes>"
      ]
     },
     "metadata": {},
     "output_type": "display_data"
    }
   ],
   "source": [
    "fig, ax = plt.subplots(1, 1)\n",
    "ax.plot([\"a\", \"b\", \"c\"], [821, 447, 440], \"-o\") # Results without caching\n",
    "ax.set_xticklabels([\"pyFunc\", \"Jit\", \"Njit\"])\n",
    "fig.suptitle(\"Basic Numba Functionalities\", fontsize=17)\n",
    "ax.set_ylabel(\"Time (ms)\")\n",
    "ax.set_xlabel(\"Method\")"
   ]
  },
  {
   "cell_type": "markdown",
   "metadata": {},
   "source": [
    "### `@jit` decorator\n",
    "Two modes:\n"
   ]
  },
  {
   "cell_type": "markdown",
   "metadata": {},
   "source": [
    "## Automatic Multithreading\n",
    "\n",
    "NumPy array expressions have a significant amount of implied parallelism, as operations are broadcast independently over the input elements.  ParallelAccelerator can identify this parallelism and automatically distribute it over several threads.  All we need to do is enable the parallelization pass with `parallel=True`:"
   ]
  },
  {
   "cell_type": "code",
   "execution_count": 14,
   "metadata": {},
   "outputs": [
    {
     "data": {
      "text/plain": [
       "array([5.44072897e-07, 5.45589108e-07, 2.83017821e-07, ...,\n",
       "       1.00075293e-06, 3.46886140e-07, 2.98926414e-17])"
      ]
     },
     "execution_count": 14,
     "metadata": {},
     "output_type": "execute_result"
    }
   ],
   "source": [
    "SQRT_2PI = np.sqrt(2 * np.pi)\n",
    "\n",
    "@jit(nopython=True, parallel=True)\n",
    "def gaussians(x, means, widths):\n",
    "    '''Return the value of gaussian kernels.\n",
    "    \n",
    "    x - location of evaluation\n",
    "    means - array of kernel means\n",
    "    widths - array of kernel widths\n",
    "    '''\n",
    "    n = means.shape[0]\n",
    "    result = np.exp( -0.5 * ((x - means) / widths)**2 ) / widths\n",
    "    return result / SQRT_2PI / n\n",
    "\n",
    "means = np.random.uniform(-1, 1, size=1000000)\n",
    "widths = np.random.uniform(0.1, 0.3, size=1000000)\n",
    "\n",
    "gaussians(0.4, means, widths)"
   ]
  },
  {
   "cell_type": "code",
   "execution_count": 15,
   "metadata": {
    "scrolled": true
   },
   "outputs": [
    {
     "name": "stdout",
     "output_type": "stream",
     "text": [
      "11 ms ± 233 µs per loop (mean ± std. dev. of 7 runs, 100 loops each)\n",
      "3.25 ms ± 107 µs per loop (mean ± std. dev. of 7 runs, 100 loops each)\n"
     ]
    }
   ],
   "source": [
    "gaussians_nothread = jit(nopython=True)(gaussians.py_func)\n",
    "\n",
    "%timeit gaussians_nothread(0.4, means, widths)\n",
    "%timeit gaussians(0.4, means, widths)"
   ]
  },
  {
   "cell_type": "code",
   "execution_count": null,
   "metadata": {},
   "outputs": [],
   "source": []
  },
  {
   "cell_type": "code",
   "execution_count": null,
   "metadata": {},
   "outputs": [],
   "source": []
  },
  {
   "cell_type": "code",
   "execution_count": 20,
   "metadata": {},
   "outputs": [
    {
     "data": {
      "text/plain": [
       "(array([0, 1, 2, 3, 4, 5, 6, 7, 8, 9]),\n",
       " array([ 0, 10, 20, 30, 40, 50, 60, 70, 80, 90]),\n",
       " dtype('int32'),\n",
       " dtype('int32'))"
      ]
     },
     "execution_count": 20,
     "metadata": {},
     "output_type": "execute_result"
    }
   ],
   "source": [
    "n = 100000000\n",
    "a = np.arange(n)\n",
    "b = 10 * a\n",
    "a[:10], b[:10], a.dtype, b.dtype"
   ]
  },
  {
   "cell_type": "markdown",
   "metadata": {},
   "source": [
    "# SIMD\n",
    "\n",
    "By using `@vectorize` wrapper you can convert your functions which operates on scalars only, to work for arrays.\n",
    "\n",
    "| Target   | Description         |\n",
    "|----------|---------------------|\n",
    "| cpu      | Single-threaded CPU |\n",
    "| parallel | Multi-core CPU      |\n",
    "| cuda     | CUDA GPU            |"
   ]
  },
  {
   "cell_type": "code",
   "execution_count": 35,
   "metadata": {},
   "outputs": [
    {
     "data": {
      "text/plain": [
       "(array([0, 1, 2, 3, 4, 5, 6, 7, 8, 9]),\n",
       " array([ 0, 10, 20, 30, 40, 50, 60, 70, 80, 90]),\n",
       " dtype('int32'),\n",
       " dtype('int32'))"
      ]
     },
     "execution_count": 35,
     "metadata": {},
     "output_type": "execute_result"
    }
   ],
   "source": [
    "n = 10000000\n",
    "a = np.arange(n)\n",
    "b = 10 * a\n",
    "a[:10], b[:10], a.dtype, b.dtype"
   ]
  },
  {
   "cell_type": "code",
   "execution_count": 43,
   "metadata": {
    "scrolled": false
   },
   "outputs": [
    {
     "name": "stdout",
     "output_type": "stream",
     "text": [
      "f_cpu:        [          0          11          42 ... -2120494889 -1920494938\n",
      " -1720494967]\n",
      "f_parallel:   [          0          11          42 ... -2120494889 -1920494938\n",
      " -1720494967]\n",
      "f_vec_cuda:       [          0          11          42 ... -2120494889 -1920494938\n",
      " -1720494967]\n"
     ]
    }
   ],
   "source": [
    "def f(x, y):\n",
    "    return x + y * x\n",
    "\n",
    "@vectorize(['int32(int32, int32)'], target='cuda')\n",
    "def f_vec_cuda(x, y):\n",
    "    return x + y * x\n",
    "\n",
    "@vectorize(['int32(int32, int32)'], target='parallel')\n",
    "def f_vec_paral(x, y):\n",
    "    return x + y * x\n",
    "\n",
    "@jit(nopython=True)\n",
    "def f_jit(x, y):\n",
    "    return x + y * x\n",
    "\n",
    "@vectorize(['int32(int32, int32)'], target='cpu')\n",
    "def f_vec_cpu(x, y):\n",
    "    return x + y * x\n",
    "\n",
    "@jit(nopython=True, parallel=True)\n",
    "def f_jit_paral(x, y):\n",
    "    return x + y * x\n",
    "\n",
    "#print('a+b:\\t', np.add(a, b))\n",
    "f(a, b)\n",
    "f_vec_cuda(a, b)\n",
    "f_vec_paral(a, b)\n",
    "f_jit(a, b)\n",
    "f_vec_cpu(a, b)\n",
    "f_jit_paral(a, b)\n",
    "\n",
    "\n",
    "print('f_cpu:       ', f_cpu(a, b))\n",
    "print('f_parallel:  ', f_parallel(a, b))\n",
    "print('f_vec_cuda:  ', f_cuda(a, b))"
   ]
  },
  {
   "cell_type": "code",
   "execution_count": 46,
   "metadata": {},
   "outputs": [
    {
     "name": "stdout",
     "output_type": "stream",
     "text": [
      "37.2 ms ± 125 µs per loop (mean ± std. dev. of 7 runs, 10 loops each)\n",
      "38.3 ms ± 242 µs per loop (mean ± std. dev. of 7 runs, 10 loops each)\n",
      "25.1 ms ± 285 µs per loop (mean ± std. dev. of 7 runs, 10 loops each)\n",
      "16.4 ms ± 348 µs per loop (mean ± std. dev. of 7 runs, 100 loops each)\n",
      "16.2 ms ± 171 µs per loop (mean ± std. dev. of 7 runs, 100 loops each)\n",
      "10.9 ms ± 123 µs per loop (mean ± std. dev. of 7 runs, 100 loops each)\n",
      "358 µs ± 2.72 µs per loop (mean ± std. dev. of 7 runs, 1000 loops each)\n"
     ]
    }
   ],
   "source": [
    "numba.cuda.synchronize()\n",
    "\n",
    "#%timeit np.add(a, b)\n",
    "%timeit f(a, b)\n",
    "%timeit f_vec_cuda(a, b)\n",
    "%timeit f_vec_paral(a, b)\n",
    "%timeit f_jit(a, b)\n",
    "%timeit f_vec_cpu(a, b)\n",
    "%timeit f_jit_paral(a, b)\n",
    "\n",
    "a_device   = cuda.to_device(a)\n",
    "b_device   = cuda.to_device(b)\n",
    "out_device = cuda.device_array(shape=(n), dtype=np.int32)\n",
    "%timeit f_vec_cuda(a_device, b_device, out=out_device)"
   ]
  },
  {
   "cell_type": "code",
   "execution_count": 45,
   "metadata": {},
   "outputs": [
    {
     "data": {
      "text/plain": [
       "Text(0.5, 0, 'Method')"
      ]
     },
     "execution_count": 45,
     "metadata": {},
     "output_type": "execute_result"
    },
    {
     "data": {
      "image/png": "[encoded data removed]",
      "text/plain": [
       "<Figure size 432x288 with 1 Axes>"
      ]
     },
     "metadata": {
      "needs_background": "light"
     },
     "output_type": "display_data"
    }
   ],
   "source": [
    "fig, ax = plt.subplots(1, 1)\n",
    "ax.plot([\"a\", \"b\", \"c\", \"d\", \"e\", \"f\"], [44.3, 42.2, 27.2, 17.6, 16.2, 10.8], \"-o\")\n",
    "ax.set_xticklabels([\"f\", \"f_vec_cuda\", \"f_vec_paral\", \"f_jit\", \"f_vec_cpu\", \"f_jit_paral\"])\n",
    "fig.suptitle(\"@vectorize wrapper\", fontsize=17)\n",
    "ax.set_ylabel(\"Time (ms)\")\n",
    "ax.set_xlabel(\"Method\")"
   ]
  },
  {
   "cell_type": "markdown",
   "metadata": {},
   "source": [
    "# Managing GPU Memory\n",
    "If you want to reduce the impact of host-to-device/device-to-host bandwidth, it is best to copy data to the GPU explicitly and leave it there to amortize the cost over multiple function calls."
   ]
  },
  {
   "cell_type": "code",
   "execution_count": 50,
   "metadata": {},
   "outputs": [],
   "source": [
    "a_device = cuda.to_device(a)\n",
    "b_device = cuda.to_device(b)"
   ]
  },
  {
   "cell_type": "markdown",
   "metadata": {},
   "source": [
    "Device arrays can be passed to CUDA functions just like NumPy arrays, but without the copy overhead:"
   ]
  },
  {
   "cell_type": "code",
   "execution_count": 51,
   "metadata": {},
   "outputs": [
    {
     "name": "stdout",
     "output_type": "stream",
     "text": [
      "465 µs ± 2.36 µs per loop (mean ± std. dev. of 7 runs, 1000 loops each)\n"
     ]
    }
   ],
   "source": [
    "%timeit add4(a_device, b_device)"
   ]
  },
  {
   "cell_type": "markdown",
   "metadata": {},
   "source": [
    "That's a big performance improvement already, but we are still allocating a device array for the output of the ufunc and copying it back to the host. We can create the output buffer with the numba.cuda.device_array() function:"
   ]
  },
  {
   "cell_type": "code",
   "execution_count": 54,
   "metadata": {},
   "outputs": [],
   "source": [
    "out_device = cuda.device_array(shape=(n), dtype=np.int32)  # does not initialize the contents, like np.empty()"
   ]
  },
  {
   "cell_type": "markdown",
   "metadata": {},
   "source": [
    "And then we can use a special out keyword argument to the ufunc to specify the output buffer:"
   ]
  },
  {
   "cell_type": "code",
   "execution_count": 55,
   "metadata": {},
   "outputs": [
    {
     "name": "stdout",
     "output_type": "stream",
     "text": [
      "374 µs ± 4.46 µs per loop (mean ± std. dev. of 7 runs, 1000 loops each)\n"
     ]
    }
   ],
   "source": [
    "%timeit add4(a_device, b_device, out=out_device)"
   ]
  },
  {
   "cell_type": "markdown",
   "metadata": {},
   "source": [
    "Now that we have removed the device allocation and copy steps, the computation runs much faster than before. When we want to bring the device array back to the host memory, we can use the copy_to_host() method:"
   ]
  },
  {
   "cell_type": "code",
   "execution_count": 68,
   "metadata": {},
   "outputs": [
    {
     "name": "stdout",
     "output_type": "stream",
     "text": [
      "[      0      11      22 ... 1099967 1099978 1099989]\n"
     ]
    }
   ],
   "source": [
    "out_host = out_device.copy_to_host()\n",
    "print(out_host)"
   ]
  },
  {
   "cell_type": "markdown",
   "metadata": {},
   "source": [
    "# CUDA\n",
    "Create kernel. You will have to pass two things:\n",
    "- Number of threads per block,\n",
    "- Number of blocks."
   ]
  },
  {
   "cell_type": "code",
   "execution_count": 8,
   "metadata": {},
   "outputs": [
    {
     "data": {
      "text/plain": [
       "True"
      ]
     },
     "execution_count": 8,
     "metadata": {},
     "output_type": "execute_result"
    }
   ],
   "source": [
    "numba.cuda.is_available()"
   ]
  },
  {
   "cell_type": "code",
   "execution_count": 9,
   "metadata": {},
   "outputs": [
    {
     "name": "stdout",
     "output_type": "stream",
     "text": [
      "Found 1 CUDA devices\n",
      "id 0    b'GeForce GTX 1080 Ti'                              [SUPPORTED]\n",
      "                      compute capability: 6.1\n",
      "                           pci device id: 0\n",
      "                              pci bus id: 1\n",
      "Summary:\n",
      "\t1/1 devices are supported\n"
     ]
    },
    {
     "data": {
      "text/plain": [
       "True"
      ]
     },
     "execution_count": 9,
     "metadata": {},
     "output_type": "execute_result"
    }
   ],
   "source": [
    "numba.cuda.detect()"
   ]
  },
  {
   "cell_type": "code",
   "execution_count": 50,
   "metadata": {},
   "outputs": [
    {
     "ename": "TypeError",
     "evalue": "'Macro' object is not callable",
     "output_type": "error",
     "traceback": [
      "\u001b[1;31m---------------------------------------------------------------------------\u001b[0m",
      "\u001b[1;31mTypeError\u001b[0m                                 Traceback (most recent call last)",
      "\u001b[1;32m<ipython-input-50-82c92c22ef98>\u001b[0m in \u001b[0;36m<module>\u001b[1;34m\u001b[0m\n\u001b[1;32m----> 1\u001b[1;33m \u001b[0mnumba\u001b[0m\u001b[1;33m.\u001b[0m\u001b[0mcuda\u001b[0m\u001b[1;33m.\u001b[0m\u001b[0mgrid\u001b[0m\u001b[1;33m(\u001b[0m\u001b[1;33m)\u001b[0m\u001b[1;33m\u001b[0m\u001b[1;33m\u001b[0m\u001b[0m\n\u001b[0m",
      "\u001b[1;31mTypeError\u001b[0m: 'Macro' object is not callable"
     ]
    }
   ],
   "source": [
    "numba.cuda.grid()"
   ]
  },
  {
   "cell_type": "code",
   "execution_count": 29,
   "metadata": {},
   "outputs": [
    {
     "name": "stdout",
     "output_type": "stream",
     "text": [
      "[ 0.  3.  6.  9. 12. 15. 18. 21. 24. 27.]\n"
     ]
    }
   ],
   "source": [
    "n = 100000\n",
    "x = np.arange(n).astype(np.float32)\n",
    "y = 2 * x\n",
    "out = np.empty_like(x)\n",
    "\n",
    "threads_per_block = 128\n",
    "blocks_per_grid   = 30\n",
    "\n",
    "add_kernel[blocks_per_grid, threads_per_block](x, y, out)\n",
    "print(out[:10])"
   ]
  }
 ],
 "metadata": {
  "kernelspec": {
   "display_name": "Python 3",
   "language": "python",
   "name": "python3"
  },
  "language_info": {
   "codemirror_mode": {
    "name": "ipython",
    "version": 3
   },
   "file_extension": ".py",
   "mimetype": "text/x-python",
   "name": "python",
   "nbconvert_exporter": "python",
   "pygments_lexer": "ipython3",
   "version": "3.7.1"
  }
 },
 "nbformat": 4,
 "nbformat_minor": 2
}
