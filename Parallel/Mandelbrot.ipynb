{
 "cells": [
  {
   "cell_type": "markdown",
   "metadata": {},
   "source": [
    "## [Link](https://www.ibm.com/developerworks/community/blogs/jfp/entry/How_To_Compute_Mandelbrodt_Set_Quickly)"
   ]
  },
  {
   "cell_type": "code",
   "execution_count": 2,
   "metadata": {},
   "outputs": [],
   "source": [
    "import numpy as np"
   ]
  },
  {
   "cell_type": "markdown",
   "metadata": {},
   "source": [
    "## Naive python"
   ]
  },
  {
   "cell_type": "code",
   "execution_count": 3,
   "metadata": {},
   "outputs": [
    {
     "name": "stdout",
     "output_type": "stream",
     "text": [
      "4.74 s ± 9.09 ms per loop (mean ± std. dev. of 7 runs, 1 loop each)\n"
     ]
    }
   ],
   "source": [
    "def mandelbrot(z,maxiter):\n",
    "    c = z\n",
    "    for n in range(maxiter):\n",
    "        if abs(z) > 2:\n",
    "            return n\n",
    "        z = z*z + c\n",
    "    return maxiter\n",
    "\n",
    "def mandelbrot_set(xmin,xmax,ymin,ymax,width,height,maxiter):\n",
    "    r1 = np.linspace(xmin, xmax, width)\n",
    "    r2 = np.linspace(ymin, ymax, height)\n",
    "    return (r1,r2,[mandelbrot(complex(r, i),maxiter) for r in r1 for i in r2])\n",
    "\n",
    "%timeit mandelbrot_set(-2.0,0.5,-1.25,1.25,1000,1000,80)"
   ]
  },
  {
   "cell_type": "code",
   "execution_count": 4,
   "metadata": {},
   "outputs": [
    {
     "name": "stdout",
     "output_type": "stream",
     "text": [
      "10 s ± 35.9 ms per loop (mean ± std. dev. of 7 runs, 1 loop each)\n"
     ]
    }
   ],
   "source": [
    "def mandelbrot_set(xmin,xmax,ymin,ymax,width,height,maxiter):\n",
    "    r1 = np.linspace(xmin, xmax, width)\n",
    "    r2 = np.linspace(ymin, ymax, height)\n",
    "    n3 = np.empty((width,height))\n",
    "    for i in range(width):\n",
    "        for j in range(height):\n",
    "            n3[i,j] = mandelbrot(r1[i] + 1j*r2[j],maxiter)\n",
    "    return (r1,r2,n3)\n",
    "\n",
    "%timeit mandelbrot_set(-2.0,0.5,-1.25,1.25,1000,1000,80)"
   ]
  },
  {
   "cell_type": "markdown",
   "metadata": {},
   "source": [
    "## Numba"
   ]
  },
  {
   "cell_type": "code",
   "execution_count": 6,
   "metadata": {},
   "outputs": [
    {
     "name": "stdout",
     "output_type": "stream",
     "text": [
      "143 ms ± 521 µs per loop (mean ± std. dev. of 7 runs, 1 loop each)\n"
     ]
    }
   ],
   "source": [
    "from numba import jit\n",
    "\n",
    "@jit\n",
    "def mandelbrot(c,maxiter):\n",
    "    z = c\n",
    "    for n in range(maxiter):\n",
    "        if abs(z) > 2:\n",
    "            return n\n",
    "        z = z*z + c\n",
    "    return 0\n",
    "\n",
    "@jit\n",
    "def mandelbrot_set(xmin,xmax,ymin,ymax,width,height,maxiter):\n",
    "    r1 = np.linspace(xmin, xmax, width)\n",
    "    r2 = np.linspace(ymin, ymax, height)\n",
    "    n3 = np.empty((width,height))\n",
    "    for i in range(width):\n",
    "        for j in range(height):\n",
    "            n3[i,j] = mandelbrot(r1[i] + 1j*r2[j],maxiter)\n",
    "    return (r1,r2,n3)\n",
    "\n",
    "%timeit mandelbrot_set(-2.0,0.5,-1.25,1.25,1000,1000,80)"
   ]
  },
  {
   "cell_type": "markdown",
   "metadata": {},
   "source": [
    "## Vectorized"
   ]
  },
  {
   "cell_type": "code",
   "execution_count": 10,
   "metadata": {},
   "outputs": [
    {
     "name": "stdout",
     "output_type": "stream",
     "text": [
      "1.08 s ± 33.1 ms per loop (mean ± std. dev. of 7 runs, 1 loop each)\n"
     ]
    }
   ],
   "source": [
    "def mandelbrot(c, maxiter):\n",
    "    output = np.zeros(c.shape)\n",
    "    z = np.zeros(c.shape, np.complex64)\n",
    "    for it in range(maxiter):\n",
    "        notdone = np.less(z.real*z.real + z.imag*z.imag, 4.0)\n",
    "        output[notdone] = it\n",
    "        z[notdone] = z[notdone]**2 + c[notdone]\n",
    "    output[output == maxiter-1] = 0\n",
    "    return output\n",
    "\n",
    "\n",
    "def mandelbrot_set(xmin,xmax,ymin,ymax,width,height,maxiter):\n",
    "    r1 = np.linspace(xmin, xmax, width, dtype=np.float32)\n",
    "    r2 = np.linspace(ymin, ymax, height, dtype=np.float32)\n",
    "    c = r1 + r2[:,None]*1j\n",
    "    n3 = mandelbrot(c,maxiter)\n",
    "    return (r1,r2,n3.T) \n",
    "\n",
    "%timeit mandelbrot_set(-2.0,0.5,-1.25,1.25,1000,1000,80)"
   ]
  },
  {
   "cell_type": "markdown",
   "metadata": {},
   "source": [
    "## GPU and PyOpenCl"
   ]
  },
  {
   "cell_type": "code",
   "execution_count": 12,
   "metadata": {},
   "outputs": [
    {
     "ename": "SyntaxError",
     "evalue": "invalid syntax (<ipython-input-12-1c72883c9471>, line 12)",
     "output_type": "error",
     "traceback": [
      "\u001b[1;36m  File \u001b[1;32m\"<ipython-input-12-1c72883c9471>\"\u001b[1;36m, line \u001b[1;32m12\u001b[0m\n\u001b[1;33m    __kernel void mandelbrot(__global float2 *q,\u001b[0m\n\u001b[1;37m                ^\u001b[0m\n\u001b[1;31mSyntaxError\u001b[0m\u001b[1;31m:\u001b[0m invalid syntax\n"
     ]
    }
   ],
   "source": [
    "import pyopencl as cl \n",
    "\n",
    "ctx = cl.create_some_context(interactive=True)\n",
    "\n",
    "def mandelbrot_gpu(q, maxiter):\n",
    "\n",
    "    global ctx\n",
    "    queue = cl.CommandQueue(ctx)\n",
    "    output = np.empty(q.shape, dtype=np.uint16)\n",
    "\n",
    "    #pragma OPENCL EXTENSION cl_khr_byte_addressable_store : enable\n",
    "    __kernel void mandelbrot(__global float2 *q,\n",
    "                     __global ushort *output, ushort const maxiter)\n",
    "    {\n",
    "        int gid = get_global_id(0);\n",
    "        float real = q[gid].x;\n",
    "        float imag = q[gid].y;\n",
    "        output[gid] = 0;\n",
    "        for(int curiter = 0; curiter < maxiter; curiter++) {\n",
    "            float real2 = real*real, imag2 = imag*imag;\n",
    "            if (real*real + imag*imag > 4.0f){\n",
    "                 output[gid] = curiter;\n",
    "                 return;\n",
    "            }\n",
    "            imag = 2* real*imag + q[gid].y;\n",
    "            real = real2 - imag2 + q[gid].x;\n",
    "            \n",
    "        }\n",
    "    }\n",
    "    \"\"\").build()\n",
    "\n",
    "    mf = cl.mem_flags\n",
    "    q_opencl = cl.Buffer(ctx, mf.READ_ONLY | mf.COPY_HOST_PTR, hostbuf=q)\n",
    "    output_opencl = cl.Buffer(ctx, mf.WRITE_ONLY, output.nbytes)\n",
    "\n",
    "\n",
    "    prg.mandelbrot(queue, output.shape, None, q_opencl,\n",
    "                   output_opencl, np.uint16(maxiter))\n",
    "\n",
    "    cl.enqueue_copy(queue, output, output_opencl).wait()\n",
    "    \n",
    "    return output"
   ]
  }
 ],
 "metadata": {
  "kernelspec": {
   "display_name": "Python 3",
   "language": "python",
   "name": "python3"
  },
  "language_info": {
   "codemirror_mode": {
    "name": "ipython",
    "version": 3
   },
   "file_extension": ".py",
   "mimetype": "text/x-python",
   "name": "python",
   "nbconvert_exporter": "python",
   "pygments_lexer": "ipython3",
   "version": "3.7.2"
  }
 },
 "nbformat": 4,
 "nbformat_minor": 2
}
