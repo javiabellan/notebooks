{
 "cells": [
  {
   "cell_type": "code",
   "execution_count": 12,
   "metadata": {},
   "outputs": [
    {
     "name": "stdout",
     "output_type": "stream",
     "text": [
      "Biopython v1.72\n"
     ]
    }
   ],
   "source": [
    "import numpy as np # linear algebra\n",
    "import pandas as pd # data processing, CSV file I/O (e.g. pd.read_csv)\n",
    "import Bio\n",
    "from Bio import SeqIO\n",
    "from Bio.Seq import Seq\n",
    "\n",
    "print(\"Biopython v\" + Bio.__version__)"
   ]
  },
  {
   "cell_type": "code",
   "execution_count": 68,
   "metadata": {},
   "outputs": [
    {
     "name": "stdout",
     "output_type": "stream",
     "text": [
      "Sequence:     AGTACACTGGTCG\n",
      "Lenght:       13\n",
      "First Letter: A\n",
      "Last Letter:  G\n",
      "Slice [2,5]:  TAC\n",
      "3 stride:     AACGG\n",
      "AC Count:     2\n",
      "G Count:      4\n"
     ]
    }
   ],
   "source": [
    "my_seq = Seq(\"AGTACACTGGTCG\")\n",
    "\n",
    "print(\"Sequence:    \", my_seq)\n",
    "print(\"Lenght:      \", len(my_seq))\n",
    "print(\"First Letter:\", my_seq[0])\n",
    "print(\"Last Letter: \", my_seq[-1])\n",
    "print(\"Slice [2,5]: \", my_seq[2:5])\n",
    "print(\"3 stride:    \", my_seq[::3])\n",
    "print(\"AC Count:    \", my_seq.count(\"AC\")) # non-overlapping count:\n",
    "print(\"G Count:     \", my_seq.count(\"G\"))"
   ]
  },
  {
   "cell_type": "code",
   "execution_count": 66,
   "metadata": {},
   "outputs": [
    {
     "name": "stdout",
     "output_type": "stream",
     "text": [
      "AGTACACTGGTC - Sequence\n",
      "TCATGTGACCAG - Complement\n",
      "GACCAGTGTACT - Reverse Complement\n"
     ]
    }
   ],
   "source": [
    "print(my_seq + \" - Sequence\")\n",
    "print(my_seq.complement() + \" - Complement\")\n",
    "print(my_seq.reverse_complement() + \" - Reverse Complement\")"
   ]
  },
  {
   "cell_type": "code",
   "execution_count": 69,
   "metadata": {},
   "outputs": [
    {
     "name": "stdout",
     "output_type": "stream",
     "text": [
      "GC%: 53.84615384615385\n",
      "GC%: 53.84615384615385\n"
     ]
    }
   ],
   "source": [
    "print(\"GC%:\", 100 * (my_seq.count(\"G\") + my_seq.count(\"C\")) / len(my_seq) )\n",
    "print(\"GC%:\", Bio.SeqUtils.GC(my_seq))"
   ]
  },
  {
   "cell_type": "markdown",
   "metadata": {},
   "source": [
    "# Read DNA files"
   ]
  },
  {
   "cell_type": "code",
   "execution_count": 62,
   "metadata": {},
   "outputs": [
    {
     "name": "stdout",
     "output_type": "stream",
     "text": [
      "Id:  chr2L  \tLength: 23513712\n",
      "Id:  chr2R  \tLength: 25286936\n",
      "Id:  chr3L  \tLength: 28110227\n",
      "Id:  chr3R  \tLength: 32079331\n",
      "Id:  chr4  \tLength: 1348131\n",
      "Id:  chrM  \tLength: 19524\n"
     ]
    }
   ],
   "source": [
    "count = 0\n",
    "sequences = [] # Here we are setting up an array to save our sequences for the next step\n",
    "\n",
    "for seq_record in SeqIO.parse(\"data/genome.fa\", \"fasta\"):\n",
    "    if (count < 6):\n",
    "        sequences.append(seq_record)\n",
    "        print(\"Id: \", seq_record.id, \" \\tLength:\", len(seq_record))\n",
    "        count = count + 1"
   ]
  },
  {
   "cell_type": "markdown",
   "metadata": {},
   "source": [
    "# Machine learning with DNA sequence data\n",
    "There are 3 general approaches for this.\n",
    "1. encode the sequence information as an ordinal vector and work with that direcly\n",
    "2. One-hot encode array\n",
    "3. treat the DNA sequence as a language (text) and use various \"language\" processing methods."
   ]
  },
  {
   "cell_type": "code",
   "execution_count": null,
   "metadata": {},
   "outputs": [],
   "source": []
  }
 ],
 "metadata": {
  "kernelspec": {
   "display_name": "Python 3",
   "language": "python",
   "name": "python3"
  },
  "language_info": {
   "codemirror_mode": {
    "name": "ipython",
    "version": 3
   },
   "file_extension": ".py",
   "mimetype": "text/x-python",
   "name": "python",
   "nbconvert_exporter": "python",
   "pygments_lexer": "ipython3",
   "version": "3.7.1"
  }
 },
 "nbformat": 4,
 "nbformat_minor": 2
}
