{
 "cells": [
  {
   "cell_type": "markdown",
   "metadata": {},
   "source": [
    "# Árboles de decisión"
   ]
  },
  {
   "cell_type": "markdown",
   "metadata": {},
   "source": [
    "#### Criterio de selección de particiones: Entropía (método C4.5)\n",
    " \n",
    "$$\\Large S = -\\sum_{i=1}^{C}p_i \\log_2{p_i}$$\n",
    "\n",
    "La entropía muestra el grado de \"mezcla\" entre $C$ clases. Donde $p_i$ es la probabilidad de cada clase $i$. Por ejemplo aquí tenemos 2 clases con una entropía muy alta.\n",
    "![dtree1](img/dtree1.png)\n",
    "\n",
    "Tenemos $9$ bolas azules y $11$ amarillas. Si aleatoriamente cogemos una bola. las probabilidades son $p_{azul}= \\frac{9}{20},  p_{amarillo}=\\frac{11}{20}$. Lo cual nos da una entropía de:\n",
    "\n",
    "\n",
    "$$S = - \\left( \\frac{9}{20}\\log_2{\\frac{9}{20}} \\right) -\n",
    "          \\left( \\frac{11}{20}\\log_2{\\frac{11}{20}} \\right) = 0.9927 \\approx 1$$\n",
    "\n",
    "> #### Extra: Entropy vs Gini\n",
    "> A parte de la entropía para calcular el grado de desorden de un nodo, existe otra medida llamada **Gini**.\n",
    "> $$ Entropía = -\\sum_{i=1}^{C} p_i \\log_2{p_i}$$\n",
    "> $$ Gini  = 1 - \\sum_{i=1}^{C} (p_i)^2$$\n",
    ">\n",
    "> Ambas funcionan de manera parecida."
   ]
  },
  {
   "cell_type": "code",
   "execution_count": 104,
   "metadata": {},
   "outputs": [
    {
     "name": "stdout",
     "output_type": "stream",
     "text": [
      "Muy mezclado:\n",
      "\tEntropía: 0.9927744539878084 \n",
      "\tGini:     0.49499999999999994\n",
      "Poco mezclado:\n",
      "\tEntropía: 0.28639695711595625 \n",
      "\tGini:     0.09500000000000008\n"
     ]
    }
   ],
   "source": [
    "from math import log, pow\n",
    "\n",
    "p1, p2 = 9/20, 11/20\n",
    "entrop = - (p1 * log(p1,2)) - (p2 * log(p2,2))\n",
    "gini   = 1 - pow(p1, 2) - pow(p2, 2)\n",
    "print(\"Muy mezclado:\\n\\tEntropía:\",entrop,\"\\n\\tGini:    \",gini)\n",
    "\n",
    "p1, p2 = 1/20, 19/20\n",
    "entrop = - (p1 * log(p1,2)) - (p2 * log(p2,2))\n",
    "gini   = 1 - pow(p1, 2) - pow(p2, 2)\n",
    "print(\"Poco mezclado:\\n\\tEntropía:\",entrop,\"\\n\\tGini:    \",gini)"
   ]
  },
  {
   "cell_type": "markdown",
   "metadata": {},
   "source": [
    "La entropía puede tomar valores de $[0,1]$, donde valores cercanos al $0$ indican que hay una clase dominante y por lo tanto poco caos. Y una entropía cercana a $1$ indica que hay muchas clases con probabilidades similares, es decir, caos y desorden.\n",
    "\n",
    "La entropía la usaremos para comparar la partición padre con las particiones hijas.\n",
    "\n",
    "![dtree2](img/dtree2.png)\n",
    "\n",
    "Si las particiones hijas tienen menos entropía, son buenas. Veamoslas. La partición de la izquierda tiene 13 bolas, 8 azules y 5 amarillas:\n",
    "\n",
    "$$S_1 = -\\frac{5}{13}\\log_2{\\frac{5}{13}}-\\frac{8}{13}\\log_2{\\frac{8}{13}} \\approx 0.96$$\n",
    "\n",
    "La partición de la derecha tiene 7 bolas, 1 azul y 6 amarillas.\n",
    "\n",
    "$$S_2 = -\\frac{1}{7}\\log_2{\\frac{1}{7}}-\\frac{6}{7}\\log_2{\\frac{6}{7}} \\approx 0.6$$\n",
    "\n",
    "Vemos que la entropía ha disminuido en ambos grupos, (bastante más en la izquierda). La reducción de la entropía se llama **ganancia de información**. Pero no podemos hacer simplemente una media de las particiones hijas para compararla con la padre. Debemos ponderarlas acore al numero de muestras de cada una. La fórmula de ganancia es la siguiente:\n",
    "\n",
    "$$\\Large GI(Q) = S_{padre} - \\sum_{i=1}^{\\normalsize numHijos}\\frac{N_i}{N}S_i$$\n",
    "\n",
    "La variable $Q$ indica por dónde estamos particionando al padre, en este ejemplo es \"$x\\leq12$\".\n",
    "\n",
    "- Número de muestras de la partición padre: $N = 20$\n",
    "- Número de muestras de las particiones hijas: $N_1 = 13, N_2 = 7 $\n",
    "\n",
    "$$ \\Large GI(x \\leq 12) = S_{padre} - \\normalsize \\left( \\left( \\frac{13}{20}S_1 \\right) + \\left( \\frac{7}{20}S_2 \\right) \\right) \\approx 0.16$$\n",
    "\n",
    "Al final nos quedaremos con la partición (sitio de cortar al padre) que más gananacia de información nos de. En este caso cortar por $12.5$ nos da una ganancia de $0.16$, si repetimos el proceso quedaría un árbol como este.\n",
    "\n",
    "![dtree3](img/dtree3.png)\n",
    "\n",
    "Fijarse que si en un nodo ya no hay ganancia de información, como aquellos donde todos los ejemplos son de la misama clase, ya no se particiona, será un nodo hoja.\n",
    "\n",
    "\n",
    "## Parte 2: La poda del árbol\n",
    "\n",
    "Si obtenemos un árbol que segmenta a la perfeción nuestro conjunto de entrenamiento, lo que estamos haciendo es memorizar nuestros datos y **overfitting**. Caundo llegen nuevos datos seguramente lo hagamos mal. Es preferible tener árboles más pequeños con menos ramas porque generalizan mejor."
   ]
  },
  {
   "cell_type": "code",
   "execution_count": 60,
   "metadata": {},
   "outputs": [],
   "source": [
    "import numpy as np\n",
    "import pandas as pd\n",
    "import seaborn as sns\n",
    "sns.set()\n",
    "from matplotlib import pyplot as plt\n",
    "from tqdm import tqdm_notebook\n",
    "import warnings\n",
    "warnings.filterwarnings('ignore')"
   ]
  },
  {
   "cell_type": "code",
   "execution_count": 42,
   "metadata": {},
   "outputs": [],
   "source": [
    "# MODELS\n",
    "from sklearn.tree import DecisionTreeClassifier\n",
    "from sklearn.neighbors import KNeighborsClassifier\n",
    "\n",
    "# OTHERS\n",
    "from sklearn.model_selection import train_test_split, StratifiedKFold\n",
    "from sklearn.model_selection import GridSearchCV, cross_val_score\n",
    "from sklearn.preprocessing import StandardScaler\n",
    "from sklearn.pipeline import Pipeline\n",
    "\n",
    "# METRICS\n",
    "from sklearn.metrics import accuracy_score\n",
    "\n",
    "# DRAW TREES\n",
    "import pydotplus\n",
    "from sklearn.tree import export_graphviz\n",
    "\n",
    "def tree_graph_to_png(tree, feature_names, png_file_to_save):\n",
    "    tree_str = export_graphviz(tree, feature_names=feature_names, \n",
    "                                     filled=True, out_file=None)\n",
    "    graph = pydotplus.graph_from_dot_data(tree_str)  \n",
    "    graph.write_png(png_file_to_save)"
   ]
  },
  {
   "cell_type": "code",
   "execution_count": 18,
   "metadata": {},
   "outputs": [
    {
     "data": {
      "text/html": [
       "<div>\n",
       "<style scoped>\n",
       "    .dataframe tbody tr th:only-of-type {\n",
       "        vertical-align: middle;\n",
       "    }\n",
       "\n",
       "    .dataframe tbody tr th {\n",
       "        vertical-align: top;\n",
       "    }\n",
       "\n",
       "    .dataframe thead th {\n",
       "        text-align: right;\n",
       "    }\n",
       "</style>\n",
       "<table border=\"1\" class=\"dataframe\">\n",
       "  <thead>\n",
       "    <tr style=\"text-align: right;\">\n",
       "      <th></th>\n",
       "      <th>State</th>\n",
       "      <th>Account length</th>\n",
       "      <th>Area code</th>\n",
       "      <th>International plan</th>\n",
       "      <th>Voice mail plan</th>\n",
       "      <th>Number vmail messages</th>\n",
       "      <th>Total day minutes</th>\n",
       "      <th>Total day calls</th>\n",
       "      <th>Total day charge</th>\n",
       "      <th>Total eve minutes</th>\n",
       "      <th>Total eve calls</th>\n",
       "      <th>Total eve charge</th>\n",
       "      <th>Total night minutes</th>\n",
       "      <th>Total night calls</th>\n",
       "      <th>Total night charge</th>\n",
       "      <th>Total intl minutes</th>\n",
       "      <th>Total intl calls</th>\n",
       "      <th>Total intl charge</th>\n",
       "      <th>Customer service calls</th>\n",
       "      <th>Churn</th>\n",
       "    </tr>\n",
       "  </thead>\n",
       "  <tbody>\n",
       "    <tr>\n",
       "      <th>0</th>\n",
       "      <td>KS</td>\n",
       "      <td>128</td>\n",
       "      <td>415</td>\n",
       "      <td>No</td>\n",
       "      <td>Yes</td>\n",
       "      <td>25</td>\n",
       "      <td>265.1</td>\n",
       "      <td>110</td>\n",
       "      <td>45.07</td>\n",
       "      <td>197.4</td>\n",
       "      <td>99</td>\n",
       "      <td>16.78</td>\n",
       "      <td>244.7</td>\n",
       "      <td>91</td>\n",
       "      <td>11.01</td>\n",
       "      <td>10.0</td>\n",
       "      <td>3</td>\n",
       "      <td>2.70</td>\n",
       "      <td>1</td>\n",
       "      <td>False</td>\n",
       "    </tr>\n",
       "    <tr>\n",
       "      <th>1</th>\n",
       "      <td>OH</td>\n",
       "      <td>107</td>\n",
       "      <td>415</td>\n",
       "      <td>No</td>\n",
       "      <td>Yes</td>\n",
       "      <td>26</td>\n",
       "      <td>161.6</td>\n",
       "      <td>123</td>\n",
       "      <td>27.47</td>\n",
       "      <td>195.5</td>\n",
       "      <td>103</td>\n",
       "      <td>16.62</td>\n",
       "      <td>254.4</td>\n",
       "      <td>103</td>\n",
       "      <td>11.45</td>\n",
       "      <td>13.7</td>\n",
       "      <td>3</td>\n",
       "      <td>3.70</td>\n",
       "      <td>1</td>\n",
       "      <td>False</td>\n",
       "    </tr>\n",
       "    <tr>\n",
       "      <th>2</th>\n",
       "      <td>NJ</td>\n",
       "      <td>137</td>\n",
       "      <td>415</td>\n",
       "      <td>No</td>\n",
       "      <td>No</td>\n",
       "      <td>0</td>\n",
       "      <td>243.4</td>\n",
       "      <td>114</td>\n",
       "      <td>41.38</td>\n",
       "      <td>121.2</td>\n",
       "      <td>110</td>\n",
       "      <td>10.30</td>\n",
       "      <td>162.6</td>\n",
       "      <td>104</td>\n",
       "      <td>7.32</td>\n",
       "      <td>12.2</td>\n",
       "      <td>5</td>\n",
       "      <td>3.29</td>\n",
       "      <td>0</td>\n",
       "      <td>False</td>\n",
       "    </tr>\n",
       "  </tbody>\n",
       "</table>\n",
       "</div>"
      ],
      "text/plain": [
       "  State  Account length  Area code International plan Voice mail plan  \\\n",
       "0    KS             128        415                 No             Yes   \n",
       "1    OH             107        415                 No             Yes   \n",
       "2    NJ             137        415                 No              No   \n",
       "\n",
       "   Number vmail messages  Total day minutes  Total day calls  \\\n",
       "0                     25              265.1              110   \n",
       "1                     26              161.6              123   \n",
       "2                      0              243.4              114   \n",
       "\n",
       "   Total day charge  Total eve minutes  Total eve calls  Total eve charge  \\\n",
       "0             45.07              197.4               99             16.78   \n",
       "1             27.47              195.5              103             16.62   \n",
       "2             41.38              121.2              110             10.30   \n",
       "\n",
       "   Total night minutes  Total night calls  Total night charge  \\\n",
       "0                244.7                 91               11.01   \n",
       "1                254.4                103               11.45   \n",
       "2                162.6                104                7.32   \n",
       "\n",
       "   Total intl minutes  Total intl calls  Total intl charge  \\\n",
       "0                10.0                 3               2.70   \n",
       "1                13.7                 3               3.70   \n",
       "2                12.2                 5               3.29   \n",
       "\n",
       "   Customer service calls  Churn  \n",
       "0                       1  False  \n",
       "1                       1  False  \n",
       "2                       0  False  "
      ]
     },
     "execution_count": 18,
     "metadata": {},
     "output_type": "execute_result"
    }
   ],
   "source": [
    "df = pd.read_csv('data/telecom_churn.csv')\n",
    "df.head(n=3)"
   ]
  },
  {
   "cell_type": "code",
   "execution_count": 19,
   "metadata": {},
   "outputs": [
    {
     "data": {
      "text/plain": [
       "((3333, 18), (3333,))"
      ]
     },
     "execution_count": 19,
     "metadata": {},
     "output_type": "execute_result"
    }
   ],
   "source": [
    "##### Convert to numbers\n",
    "df['International plan'] = pd.factorize(df['International plan'])[0]\n",
    "df['Voice mail plan']    = pd.factorize(df['Voice mail plan'])[0]\n",
    "df['Churn'] = df['Churn'].astype('int')\n",
    "\n",
    "df.drop(['State'], axis=1, inplace=True) # We dont use this categoriacl feat\n",
    "\n",
    "x = df.drop(['Churn'], axis=1)\n",
    "y = df['Churn'] # This is the target\n",
    "\n",
    "x.shape, y.shape"
   ]
  },
  {
   "cell_type": "markdown",
   "metadata": {},
   "source": [
    "#### Shuffled stratified 30% validation set"
   ]
  },
  {
   "cell_type": "code",
   "execution_count": 27,
   "metadata": {},
   "outputs": [
    {
     "name": "stdout",
     "output_type": "stream",
     "text": [
      "Train: (2333, 18) (2333,)\n",
      "Valid: (1000, 18) (1000,)\n"
     ]
    }
   ],
   "source": [
    "x_train, x_valid, y_train, y_valid = train_test_split(x, y, test_size=0.3, random_state=17)\n",
    "print(\"Train:\", x_train.shape, y_train.shape)\n",
    "print(\"Valid:\", x_valid.shape, y_valid.shape)"
   ]
  },
  {
   "cell_type": "markdown",
   "metadata": {},
   "source": [
    "#### Train DecisionTree and KNeighbors"
   ]
  },
  {
   "cell_type": "code",
   "execution_count": 30,
   "metadata": {},
   "outputs": [
    {
     "data": {
      "text/plain": [
       "KNeighborsClassifier(algorithm='auto', leaf_size=30, metric='minkowski',\n",
       "           metric_params=None, n_jobs=None, n_neighbors=10, p=2,\n",
       "           weights='uniform')"
      ]
     },
     "execution_count": 30,
     "metadata": {},
     "output_type": "execute_result"
    }
   ],
   "source": [
    "scaler = StandardScaler()\n",
    "x_train_scaled = scaler.fit_transform(x_train)\n",
    "x_valid_scaled = scaler.transform(x_valid)\n",
    "\n",
    "tree = DecisionTreeClassifier(max_depth=5, random_state=17)\n",
    "knn = KNeighborsClassifier(n_neighbors=10)\n",
    "\n",
    "tree.fit(x_train, y_train)\n",
    "knn.fit(x_train_scaled, y_train)  # for kNN, we need to scale features"
   ]
  },
  {
   "cell_type": "code",
   "execution_count": 33,
   "metadata": {},
   "outputs": [
    {
     "data": {
      "text/plain": [
       "0.94"
      ]
     },
     "execution_count": 33,
     "metadata": {},
     "output_type": "execute_result"
    }
   ],
   "source": [
    "tree_pred = tree.predict(x_valid)\n",
    "accuracy_score(y_valid, tree_pred) # 0.94"
   ]
  },
  {
   "cell_type": "code",
   "execution_count": 34,
   "metadata": {},
   "outputs": [
    {
     "data": {
      "text/plain": [
       "0.89"
      ]
     },
     "execution_count": 34,
     "metadata": {},
     "output_type": "execute_result"
    }
   ],
   "source": [
    "knn_pred = knn.predict(x_valid_scaled)\n",
    "accuracy_score(y_valid, knn_pred) # 0.89"
   ]
  },
  {
   "cell_type": "markdown",
   "metadata": {},
   "source": [
    "Now, let's identify the parameters for the tree using cross-validation. We'll tune the maximum depth and the maximum number of features used at each split. Here is the essence of how the GridSearchCV works: for each unique pair of values of `max_depth` and `max_features`, compute model performance with 5-fold cross-validation, and then select the best combination of parameters."
   ]
  },
  {
   "cell_type": "code",
   "execution_count": 111,
   "metadata": {},
   "outputs": [
    {
     "name": "stdout",
     "output_type": "stream",
     "text": [
      "Best params:   {'criterion': 'entropy', 'max_depth': 6, 'max_features': 11, 'min_samples_leaf': 3}\n",
      "Best accuracy: 0.9451350192884698\n"
     ]
    }
   ],
   "source": [
    "tree_params = {'criterion':    [\"entropy\", \"gini\"],\n",
    "               'max_depth':    range(3,13), # Maybe up to 20, but not 100\n",
    "               'max_features': range(4,19),\n",
    "               'min_samples_leaf': [1,2,3,4]} # \n",
    "\n",
    "tree_grid = GridSearchCV(tree, tree_params, cv=5, n_jobs=-1, verbose=False, )\n",
    "tree_grid.fit(x_train, y_train)\n",
    "print(\"Best params:  \", tree_grid.best_params_)\n",
    "print(\"Best accuracy:\", tree_grid.best_score_)"
   ]
  },
  {
   "cell_type": "code",
   "execution_count": 112,
   "metadata": {},
   "outputs": [
    {
     "data": {
      "text/plain": [
       "0.944"
      ]
     },
     "execution_count": 112,
     "metadata": {},
     "output_type": "execute_result"
    }
   ],
   "source": [
    "accuracy_score(y_valid, tree_grid.predict(x_valid)) #0.946 0.947"
   ]
  },
  {
   "cell_type": "code",
   "execution_count": 47,
   "metadata": {},
   "outputs": [],
   "source": [
    "tree_graph_to_png(tree=tree_grid.best_estimator_, feature_names=x.columns,\n",
    "                 png_file_to_save='img/tree4.png')"
   ]
  },
  {
   "cell_type": "markdown",
   "metadata": {},
   "source": [
    "![tree4](img/tree4.png)\n",
    "\n",
    "Now, let's tune the number of neighbors k for k-NN:"
   ]
  },
  {
   "cell_type": "code",
   "execution_count": 87,
   "metadata": {},
   "outputs": [
    {
     "data": {
      "application/vnd.jupyter.widget-view+json": {
       "model_id": "2e76ec49f5c24f6daceca7033e3ac5ff",
       "version_major": 2,
       "version_minor": 0
      },
      "text/plain": [
       "HBox(children=(IntProgress(value=0, max=14), HTML(value='')))"
      ]
     },
     "metadata": {},
     "output_type": "display_data"
    },
    {
     "name": "stdout",
     "output_type": "stream",
     "text": [
      "\n"
     ]
    }
   ],
   "source": [
    "cv_scores    = []\n",
    "split_scores = []\n",
    "\n",
    "skf = StratifiedKFold(5, shuffle=True, random_state=17)\n",
    "max_depth_values = np.arange(1,15)\n",
    "for i in tqdm_notebook(max_depth_values):\n",
    "    tree = DecisionTreeClassifier(max_depth=i, max_features=11, random_state=17)\n",
    "    \n",
    "    # Cross validation\n",
    "    score = cross_val_score(estimator=tree, X=x, y=y, cv=skf).mean()\n",
    "    cv_scores.append(score)\n",
    "    \n",
    "    # simple Split\n",
    "    tree.fit(x_train, y_train)\n",
    "    score = accuracy_score(y_valid, tree.predict(x_valid))\n",
    "    split_scores.append(score)"
   ]
  },
  {
   "cell_type": "code",
   "execution_count": 89,
   "metadata": {},
   "outputs": [
    {
     "data": {
      "text/plain": [
       "[0.8550859705282494,\n",
       " 0.8811958885422154,\n",
       " 0.9102975539257399,\n",
       " 0.9306972639806222,\n",
       " 0.929195312253783,\n",
       " 0.9420965193079136,\n",
       " 0.9393933663798733,\n",
       " 0.9345939642791217,\n",
       " 0.9327930629279955,\n",
       " 0.9387941164552858,\n",
       " 0.9333963648806227,\n",
       " 0.9300993647320484,\n",
       " 0.931297864581223,\n",
       " 0.9241010125567847]"
      ]
     },
     "execution_count": 89,
     "metadata": {},
     "output_type": "execute_result"
    }
   ],
   "source": [
    "cv_scores"
   ]
  },
  {
   "cell_type": "code",
   "execution_count": 88,
   "metadata": {},
   "outputs": [
    {
     "data": {
      "text/plain": [
       "<matplotlib.legend.Legend at 0x27eb659acc0>"
      ]
     },
     "execution_count": 88,
     "metadata": {},
     "output_type": "execute_result"
    },
    {
     "data": {
      "image/png": "[encoded data removed]",
      "text/plain": [
       "<Figure size 432x288 with 1 Axes>"
      ]
     },
     "metadata": {},
     "output_type": "display_data"
    }
   ],
   "source": [
    "plt.plot(max_depth_values, cv_scores, label=\"CV\")\n",
    "plt.plot(max_depth_values, split_scores, label=\"split\");\n",
    "plt.legend()"
   ]
  },
  {
   "cell_type": "code",
   "execution_count": 110,
   "metadata": {},
   "outputs": [
    {
     "data": {
      "application/vnd.jupyter.widget-view+json": {
       "model_id": "7038bd581fe943888796a8ddb8aafa81",
       "version_major": 2,
       "version_minor": 0
      },
      "text/plain": [
       "HBox(children=(IntProgress(value=0, max=14), HTML(value='')))"
      ]
     },
     "metadata": {},
     "output_type": "display_data"
    },
    {
     "name": "stdout",
     "output_type": "stream",
     "text": [
      "\n"
     ]
    },
    {
     "data": {
      "text/plain": [
       "<matplotlib.legend.Legend at 0x27eb80177f0>"
      ]
     },
     "execution_count": 110,
     "metadata": {},
     "output_type": "execute_result"
    },
    {
     "data": {
      "image/png": "[encoded data removed]",
      "text/plain": [
       "<Figure size 432x288 with 1 Axes>"
      ]
     },
     "metadata": {},
     "output_type": "display_data"
    }
   ],
   "source": [
    "entr_scores = []\n",
    "gini_scores = []\n",
    "\n",
    "skf = StratifiedKFold(5, shuffle=True, random_state=17)\n",
    "max_depth_values = np.arange(1,15)\n",
    "for i in tqdm_notebook(max_depth_values):\n",
    "    \n",
    "    # Entropy\n",
    "    tree = DecisionTreeClassifier(criterion=\"entropy\", max_depth=i, max_features=11, random_state=17)\n",
    "    score = cross_val_score(estimator=tree, X=x, y=y, cv=skf).mean()\n",
    "    entr_scores.append(score)\n",
    "    \n",
    "    # Gini\n",
    "    tree = DecisionTreeClassifier(criterion=\"gini\", max_depth=i, max_features=11, random_state=17)\n",
    "    score = cross_val_score(estimator=tree, X=x, y=y, cv=skf).mean()\n",
    "    gini_scores.append(score)\n",
    "\n",
    "plt.plot(max_depth_values, entr_scores, label=\"Entropy\")\n",
    "plt.plot(max_depth_values, gini_scores, label=\"Gini\");\n",
    "plt.legend()"
   ]
  }
 ],
 "metadata": {
  "kernelspec": {
   "display_name": "Python 3",
   "language": "python",
   "name": "python3"
  },
  "language_info": {
   "codemirror_mode": {
    "name": "ipython",
    "version": 3
   },
   "file_extension": ".py",
   "mimetype": "text/x-python",
   "name": "python",
   "nbconvert_exporter": "python",
   "pygments_lexer": "ipython3",
   "version": "3.7.1"
  }
 },
 "nbformat": 4,
 "nbformat_minor": 2
}
